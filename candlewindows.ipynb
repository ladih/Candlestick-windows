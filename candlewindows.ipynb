{
 "cells": [
  {
   "cell_type": "markdown",
   "id": "a29e5e7e-41ba-482d-a8ad-5bb02a2b0b70",
   "metadata": {},
   "source": [
    "### Content structure\n",
    "1. Data preparation  \n",
    "2. Feature engineering *(in progress)*  \n",
    "3. Variable selection *(in progress)*  \n",
    "4. Model building and training *(in progress)*  \n",
    "5. Testing *(in progress)*"
   ]
  },
  {
   "cell_type": "markdown",
   "id": "ef4a13fe-0048-4006-a239-e4b3cb05123b",
   "metadata": {},
   "source": [
    "## Data\n",
    " \n",
    "The data consists of candlestick windows, where each candlestick represents one minute. There are 26 candlesticks for each window and the 21st candlestick is a \"signal candle\" that is either up more than 4% or down more than -4%. The windows were collected for stocks that had satisfied certain thresholds for volume, price, and (high-low)/low. For more details on the data, see the appendix."
   ]
  },
  {
   "cell_type": "markdown",
   "id": "1cff1bf0-f1c5-405e-ac7e-10ca1eba9005",
   "metadata": {},
   "source": [
    "## Load data"
   ]
  },
  {
   "cell_type": "code",
   "execution_count": 1,
   "id": "39b084b5-54d5-4e62-bd3d-369acb581d3d",
   "metadata": {},
   "outputs": [
    {
     "name": "stdout",
     "output_type": "stream",
     "text": [
      "5000/ 23163 windows loaded\n",
      "10000/ 23163 windows loaded\n",
      "15000/ 23163 windows loaded\n",
      "20000/ 23163 windows loaded\n",
      "Number of windows: 23163\n"
     ]
    }
   ],
   "source": [
    "import os\n",
    "import pandas as pd\n",
    "import numpy as np\n",
    "\n",
    "folder = \"windows\"\n",
    "windows_csv_names = os.listdir(folder)\n",
    "windows = []\n",
    "\n",
    "for i, f in enumerate(windows_csv_names, start=1):\n",
    "    w_df = pd.read_csv(os.path.join(folder, f))\n",
    "    windows.append(w_df)\n",
    "    \n",
    "    if i % 5000 == 0:\n",
    "        print(f\"{i}/ {len(windows_csv_names)} windows loaded\")\n",
    "\n",
    "print(f\"Number of windows: {len(windows)}\")"
   ]
  },
  {
   "cell_type": "markdown",
   "id": "83499ac4-1b9d-4ecd-8b3e-add3912de431",
   "metadata": {},
   "source": [
    "## Clean and check data"
   ]
  },
  {
   "cell_type": "code",
   "execution_count": 3,
   "id": "dcc4a2c8-7845-46b4-85e5-4f1091e52331",
   "metadata": {},
   "outputs": [],
   "source": [
    "# Window parameters\n",
    "N_CANDLES = 26 # Candles per window\n",
    "N_CANDLES_BEFORE = 20 # Candles before signal candle\n",
    "N_CANDLES_AFTER = 5 # Candles after signal candle\n",
    "I_SIGNAL_CANDLE = N_CANDLES_BEFORE # Index signal candle\n",
    "I_BUY_CANDLE = I_SIGNAL_CANDLE + 1 # Index buy candle\n",
    "I_SELL_CANDLE = I_SIGNAL_CANDLE + N_CANDLES_AFTER # Index sell candle\n",
    "SIGNAL_THR = 0.04 # Threshold for absolute value of (c-o)/o for signal candle"
   ]
  },
  {
   "cell_type": "code",
   "execution_count": 4,
   "id": "b7988ded-6a77-4c55-9ecb-2a09c14d8da3",
   "metadata": {},
   "outputs": [
    {
     "data": {
      "text/html": [
       "<div>\n",
       "<style scoped>\n",
       "    .dataframe tbody tr th:only-of-type {\n",
       "        vertical-align: middle;\n",
       "    }\n",
       "\n",
       "    .dataframe tbody tr th {\n",
       "        vertical-align: top;\n",
       "    }\n",
       "\n",
       "    .dataframe thead th {\n",
       "        text-align: right;\n",
       "    }\n",
       "</style>\n",
       "<table border=\"1\" class=\"dataframe\">\n",
       "  <thead>\n",
       "    <tr style=\"text-align: right;\">\n",
       "      <th></th>\n",
       "      <th>v</th>\n",
       "      <th>vw</th>\n",
       "      <th>o</th>\n",
       "      <th>c</th>\n",
       "      <th>h</th>\n",
       "      <th>l</th>\n",
       "      <th>t</th>\n",
       "      <th>n</th>\n",
       "    </tr>\n",
       "  </thead>\n",
       "  <tbody>\n",
       "    <tr>\n",
       "      <th>0</th>\n",
       "      <td>16771</td>\n",
       "      <td>27.7948</td>\n",
       "      <td>27.755</td>\n",
       "      <td>27.7900</td>\n",
       "      <td>27.840</td>\n",
       "      <td>27.7550</td>\n",
       "      <td>2025-02-21 15:48:00</td>\n",
       "      <td>242</td>\n",
       "    </tr>\n",
       "    <tr>\n",
       "      <th>1</th>\n",
       "      <td>8376</td>\n",
       "      <td>27.7565</td>\n",
       "      <td>27.780</td>\n",
       "      <td>27.7650</td>\n",
       "      <td>27.790</td>\n",
       "      <td>27.7100</td>\n",
       "      <td>2025-02-21 15:49:00</td>\n",
       "      <td>124</td>\n",
       "    </tr>\n",
       "    <tr>\n",
       "      <th>2</th>\n",
       "      <td>16524</td>\n",
       "      <td>27.7511</td>\n",
       "      <td>27.765</td>\n",
       "      <td>27.7500</td>\n",
       "      <td>27.780</td>\n",
       "      <td>27.7300</td>\n",
       "      <td>2025-02-21 15:50:00</td>\n",
       "      <td>221</td>\n",
       "    </tr>\n",
       "    <tr>\n",
       "      <th>3</th>\n",
       "      <td>17292</td>\n",
       "      <td>27.7074</td>\n",
       "      <td>27.745</td>\n",
       "      <td>27.6900</td>\n",
       "      <td>27.750</td>\n",
       "      <td>27.6850</td>\n",
       "      <td>2025-02-21 15:51:00</td>\n",
       "      <td>246</td>\n",
       "    </tr>\n",
       "    <tr>\n",
       "      <th>4</th>\n",
       "      <td>19804</td>\n",
       "      <td>27.6796</td>\n",
       "      <td>27.700</td>\n",
       "      <td>27.6740</td>\n",
       "      <td>27.710</td>\n",
       "      <td>27.6500</td>\n",
       "      <td>2025-02-21 15:52:00</td>\n",
       "      <td>246</td>\n",
       "    </tr>\n",
       "    <tr>\n",
       "      <th>5</th>\n",
       "      <td>23903</td>\n",
       "      <td>27.6273</td>\n",
       "      <td>27.665</td>\n",
       "      <td>27.5850</td>\n",
       "      <td>27.703</td>\n",
       "      <td>27.5500</td>\n",
       "      <td>2025-02-21 15:53:00</td>\n",
       "      <td>250</td>\n",
       "    </tr>\n",
       "    <tr>\n",
       "      <th>6</th>\n",
       "      <td>43268</td>\n",
       "      <td>27.5722</td>\n",
       "      <td>27.575</td>\n",
       "      <td>27.5750</td>\n",
       "      <td>27.603</td>\n",
       "      <td>27.5430</td>\n",
       "      <td>2025-02-21 15:54:00</td>\n",
       "      <td>471</td>\n",
       "    </tr>\n",
       "    <tr>\n",
       "      <th>7</th>\n",
       "      <td>30053</td>\n",
       "      <td>27.4358</td>\n",
       "      <td>27.560</td>\n",
       "      <td>27.3300</td>\n",
       "      <td>27.560</td>\n",
       "      <td>27.3300</td>\n",
       "      <td>2025-02-21 15:55:00</td>\n",
       "      <td>328</td>\n",
       "    </tr>\n",
       "    <tr>\n",
       "      <th>8</th>\n",
       "      <td>42423</td>\n",
       "      <td>27.2484</td>\n",
       "      <td>27.320</td>\n",
       "      <td>27.2251</td>\n",
       "      <td>27.320</td>\n",
       "      <td>27.1600</td>\n",
       "      <td>2025-02-21 15:56:00</td>\n",
       "      <td>513</td>\n",
       "    </tr>\n",
       "    <tr>\n",
       "      <th>9</th>\n",
       "      <td>46713</td>\n",
       "      <td>27.2400</td>\n",
       "      <td>27.235</td>\n",
       "      <td>27.2900</td>\n",
       "      <td>27.300</td>\n",
       "      <td>27.2150</td>\n",
       "      <td>2025-02-21 15:57:00</td>\n",
       "      <td>566</td>\n",
       "    </tr>\n",
       "    <tr>\n",
       "      <th>10</th>\n",
       "      <td>80741</td>\n",
       "      <td>27.2075</td>\n",
       "      <td>27.290</td>\n",
       "      <td>27.1800</td>\n",
       "      <td>27.290</td>\n",
       "      <td>27.1600</td>\n",
       "      <td>2025-02-21 15:58:00</td>\n",
       "      <td>652</td>\n",
       "    </tr>\n",
       "    <tr>\n",
       "      <th>11</th>\n",
       "      <td>194777</td>\n",
       "      <td>27.1017</td>\n",
       "      <td>27.180</td>\n",
       "      <td>27.0200</td>\n",
       "      <td>27.200</td>\n",
       "      <td>27.0100</td>\n",
       "      <td>2025-02-21 15:59:00</td>\n",
       "      <td>965</td>\n",
       "    </tr>\n",
       "    <tr>\n",
       "      <th>12</th>\n",
       "      <td>41507</td>\n",
       "      <td>27.0400</td>\n",
       "      <td>27.040</td>\n",
       "      <td>27.0400</td>\n",
       "      <td>27.040</td>\n",
       "      <td>27.0400</td>\n",
       "      <td>2025-02-21 16:00:00</td>\n",
       "      <td>30</td>\n",
       "    </tr>\n",
       "    <tr>\n",
       "      <th>13</th>\n",
       "      <td>510</td>\n",
       "      <td>27.0612</td>\n",
       "      <td>27.060</td>\n",
       "      <td>27.0600</td>\n",
       "      <td>27.060</td>\n",
       "      <td>27.0600</td>\n",
       "      <td>2025-02-21 16:22:00</td>\n",
       "      <td>3</td>\n",
       "    </tr>\n",
       "    <tr>\n",
       "      <th>14</th>\n",
       "      <td>151166</td>\n",
       "      <td>27.0400</td>\n",
       "      <td>27.040</td>\n",
       "      <td>27.0400</td>\n",
       "      <td>27.040</td>\n",
       "      <td>27.0400</td>\n",
       "      <td>2025-02-21 16:35:00</td>\n",
       "      <td>1</td>\n",
       "    </tr>\n",
       "    <tr>\n",
       "      <th>15</th>\n",
       "      <td>2357</td>\n",
       "      <td>27.4399</td>\n",
       "      <td>27.440</td>\n",
       "      <td>27.4400</td>\n",
       "      <td>27.440</td>\n",
       "      <td>27.4400</td>\n",
       "      <td>2025-02-21 16:36:00</td>\n",
       "      <td>2</td>\n",
       "    </tr>\n",
       "    <tr>\n",
       "      <th>16</th>\n",
       "      <td>10030</td>\n",
       "      <td>27.4389</td>\n",
       "      <td>27.400</td>\n",
       "      <td>27.4400</td>\n",
       "      <td>27.440</td>\n",
       "      <td>27.4000</td>\n",
       "      <td>2025-02-21 16:37:00</td>\n",
       "      <td>8</td>\n",
       "    </tr>\n",
       "    <tr>\n",
       "      <th>17</th>\n",
       "      <td>2201</td>\n",
       "      <td>27.4419</td>\n",
       "      <td>27.400</td>\n",
       "      <td>27.4900</td>\n",
       "      <td>27.490</td>\n",
       "      <td>27.4000</td>\n",
       "      <td>2025-02-21 16:38:00</td>\n",
       "      <td>19</td>\n",
       "    </tr>\n",
       "    <tr>\n",
       "      <th>18</th>\n",
       "      <td>1000</td>\n",
       "      <td>27.4604</td>\n",
       "      <td>27.470</td>\n",
       "      <td>27.4600</td>\n",
       "      <td>27.470</td>\n",
       "      <td>27.4500</td>\n",
       "      <td>2025-02-21 16:41:00</td>\n",
       "      <td>9</td>\n",
       "    </tr>\n",
       "    <tr>\n",
       "      <th>19</th>\n",
       "      <td>13918</td>\n",
       "      <td>28.2318</td>\n",
       "      <td>28.239</td>\n",
       "      <td>28.2500</td>\n",
       "      <td>28.280</td>\n",
       "      <td>28.1400</td>\n",
       "      <td>2025-02-21 16:48:00</td>\n",
       "      <td>61</td>\n",
       "    </tr>\n",
       "    <tr>\n",
       "      <th>20</th>\n",
       "      <td>2617</td>\n",
       "      <td>28.5521</td>\n",
       "      <td>27.870</td>\n",
       "      <td>29.0300</td>\n",
       "      <td>29.030</td>\n",
       "      <td>27.8700</td>\n",
       "      <td>2025-02-21 16:49:00</td>\n",
       "      <td>44</td>\n",
       "    </tr>\n",
       "    <tr>\n",
       "      <th>21</th>\n",
       "      <td>230</td>\n",
       "      <td>28.7422</td>\n",
       "      <td>28.770</td>\n",
       "      <td>28.7700</td>\n",
       "      <td>28.770</td>\n",
       "      <td>28.7700</td>\n",
       "      <td>2025-02-21 16:50:00</td>\n",
       "      <td>2</td>\n",
       "    </tr>\n",
       "    <tr>\n",
       "      <th>22</th>\n",
       "      <td>4121</td>\n",
       "      <td>29.5868</td>\n",
       "      <td>29.460</td>\n",
       "      <td>30.0000</td>\n",
       "      <td>30.000</td>\n",
       "      <td>28.7700</td>\n",
       "      <td>2025-02-21 16:52:00</td>\n",
       "      <td>46</td>\n",
       "    </tr>\n",
       "    <tr>\n",
       "      <th>23</th>\n",
       "      <td>700</td>\n",
       "      <td>29.9389</td>\n",
       "      <td>29.910</td>\n",
       "      <td>29.9100</td>\n",
       "      <td>29.910</td>\n",
       "      <td>29.9100</td>\n",
       "      <td>2025-02-21 16:53:00</td>\n",
       "      <td>7</td>\n",
       "    </tr>\n",
       "    <tr>\n",
       "      <th>24</th>\n",
       "      <td>300</td>\n",
       "      <td>28.2900</td>\n",
       "      <td>28.360</td>\n",
       "      <td>28.1501</td>\n",
       "      <td>28.360</td>\n",
       "      <td>28.1501</td>\n",
       "      <td>2025-02-21 17:08:00</td>\n",
       "      <td>2</td>\n",
       "    </tr>\n",
       "    <tr>\n",
       "      <th>25</th>\n",
       "      <td>500</td>\n",
       "      <td>28.5000</td>\n",
       "      <td>28.500</td>\n",
       "      <td>28.5000</td>\n",
       "      <td>28.500</td>\n",
       "      <td>28.5000</td>\n",
       "      <td>2025-02-21 17:09:00</td>\n",
       "      <td>3</td>\n",
       "    </tr>\n",
       "  </tbody>\n",
       "</table>\n",
       "</div>"
      ],
      "text/plain": [
       "         v       vw       o        c       h        l                    t  \\\n",
       "0    16771  27.7948  27.755  27.7900  27.840  27.7550  2025-02-21 15:48:00   \n",
       "1     8376  27.7565  27.780  27.7650  27.790  27.7100  2025-02-21 15:49:00   \n",
       "2    16524  27.7511  27.765  27.7500  27.780  27.7300  2025-02-21 15:50:00   \n",
       "3    17292  27.7074  27.745  27.6900  27.750  27.6850  2025-02-21 15:51:00   \n",
       "4    19804  27.6796  27.700  27.6740  27.710  27.6500  2025-02-21 15:52:00   \n",
       "5    23903  27.6273  27.665  27.5850  27.703  27.5500  2025-02-21 15:53:00   \n",
       "6    43268  27.5722  27.575  27.5750  27.603  27.5430  2025-02-21 15:54:00   \n",
       "7    30053  27.4358  27.560  27.3300  27.560  27.3300  2025-02-21 15:55:00   \n",
       "8    42423  27.2484  27.320  27.2251  27.320  27.1600  2025-02-21 15:56:00   \n",
       "9    46713  27.2400  27.235  27.2900  27.300  27.2150  2025-02-21 15:57:00   \n",
       "10   80741  27.2075  27.290  27.1800  27.290  27.1600  2025-02-21 15:58:00   \n",
       "11  194777  27.1017  27.180  27.0200  27.200  27.0100  2025-02-21 15:59:00   \n",
       "12   41507  27.0400  27.040  27.0400  27.040  27.0400  2025-02-21 16:00:00   \n",
       "13     510  27.0612  27.060  27.0600  27.060  27.0600  2025-02-21 16:22:00   \n",
       "14  151166  27.0400  27.040  27.0400  27.040  27.0400  2025-02-21 16:35:00   \n",
       "15    2357  27.4399  27.440  27.4400  27.440  27.4400  2025-02-21 16:36:00   \n",
       "16   10030  27.4389  27.400  27.4400  27.440  27.4000  2025-02-21 16:37:00   \n",
       "17    2201  27.4419  27.400  27.4900  27.490  27.4000  2025-02-21 16:38:00   \n",
       "18    1000  27.4604  27.470  27.4600  27.470  27.4500  2025-02-21 16:41:00   \n",
       "19   13918  28.2318  28.239  28.2500  28.280  28.1400  2025-02-21 16:48:00   \n",
       "20    2617  28.5521  27.870  29.0300  29.030  27.8700  2025-02-21 16:49:00   \n",
       "21     230  28.7422  28.770  28.7700  28.770  28.7700  2025-02-21 16:50:00   \n",
       "22    4121  29.5868  29.460  30.0000  30.000  28.7700  2025-02-21 16:52:00   \n",
       "23     700  29.9389  29.910  29.9100  29.910  29.9100  2025-02-21 16:53:00   \n",
       "24     300  28.2900  28.360  28.1501  28.360  28.1501  2025-02-21 17:08:00   \n",
       "25     500  28.5000  28.500  28.5000  28.500  28.5000  2025-02-21 17:09:00   \n",
       "\n",
       "      n  \n",
       "0   242  \n",
       "1   124  \n",
       "2   221  \n",
       "3   246  \n",
       "4   246  \n",
       "5   250  \n",
       "6   471  \n",
       "7   328  \n",
       "8   513  \n",
       "9   566  \n",
       "10  652  \n",
       "11  965  \n",
       "12   30  \n",
       "13    3  \n",
       "14    1  \n",
       "15    2  \n",
       "16    8  \n",
       "17   19  \n",
       "18    9  \n",
       "19   61  \n",
       "20   44  \n",
       "21    2  \n",
       "22   46  \n",
       "23    7  \n",
       "24    2  \n",
       "25    3  "
      ]
     },
     "execution_count": 4,
     "metadata": {},
     "output_type": "execute_result"
    }
   ],
   "source": [
    "# Example window\n",
    "windows[0]"
   ]
  },
  {
   "cell_type": "code",
   "execution_count": 5,
   "id": "7ec54070-a446-416b-9b98-5a60cdb52d32",
   "metadata": {},
   "outputs": [
    {
     "name": "stdout",
     "output_type": "stream",
     "text": [
      "0 out of 23163 windows have missing values.\n"
     ]
    }
   ],
   "source": [
    "# Check missing values\n",
    "has_na = [w_df.isna().any().any() for w_df in windows]\n",
    "total_with_na = sum(has_na)\n",
    "print(f\"{total_with_na} out of {len(windows)} windows have missing values.\")"
   ]
  },
  {
   "cell_type": "code",
   "execution_count": 6,
   "id": "e63477a2-55d7-47aa-aa8c-179249feff0b",
   "metadata": {},
   "outputs": [
    {
     "name": "stdout",
     "output_type": "stream",
     "text": [
      "Type before: <class 'str'>\n",
      "Type after: <class 'pandas._libs.tslibs.timestamps.Timestamp'>\n"
     ]
    }
   ],
   "source": [
    "# Convert time strings to timestamp\n",
    "print(f\"Type before: {type(windows[0]['t'][0])}\")\n",
    "for w_df in windows:\n",
    "    w_df['t'] = pd.to_datetime(w_df['t'], errors='raise')\n",
    "print(f\"Type after: {type(windows[0]['t'][0])}\")"
   ]
  },
  {
   "cell_type": "code",
   "execution_count": 7,
   "id": "783181e5-136a-43fd-8672-2d7e86f0ddae",
   "metadata": {},
   "outputs": [
    {
     "name": "stdout",
     "output_type": "stream",
     "text": [
      "0 windows have incorrect length.\n"
     ]
    }
   ],
   "source": [
    "# Check length of windows\n",
    "lengths = [len(w_df) for w_df in windows]\n",
    "bad_length_idx = [i for i, L in enumerate(lengths) if L != N_CANDLES]\n",
    "print(f\"{len(bad_length_idx)} windows have incorrect length.\")"
   ]
  },
  {
   "cell_type": "code",
   "execution_count": 8,
   "id": "eb82ecfb-aded-47dd-9b35-c572752b5969",
   "metadata": {},
   "outputs": [
    {
     "name": "stdout",
     "output_type": "stream",
     "text": [
      "Min: 0.040\n",
      "Max: 0.619\n",
      "0 windows have bad signal candle.\n"
     ]
    }
   ],
   "source": [
    "# Check (close-open)/open for signal candle\n",
    "signal_perc = [(w_df['c'][I_SIGNAL_CANDLE] - w_df['o'][I_SIGNAL_CANDLE]) / w_df['o'][I_SIGNAL_CANDLE] for w_df in windows]\n",
    "signal_perc = np.abs(np.array(signal_perc))\n",
    "bad_signal_idx = [i for i, perc in enumerate(signal_perc) if perc < SIGNAL_THR]\n",
    "\n",
    "print(f\"Min: {np.min(signal_perc):.3f}\")\n",
    "print(f\"Max: {np.max(signal_perc):.3f}\")\n",
    "\n",
    "\n",
    "print(f\"{len(bad_signal_idx)} windows have bad signal candle.\")"
   ]
  },
  {
   "cell_type": "code",
   "execution_count": 9,
   "id": "79edd04c-7f8b-4ab8-bd01-f6aeeb2ced02",
   "metadata": {},
   "outputs": [
    {
     "name": "stdout",
     "output_type": "stream",
     "text": [
      "12332 windows have inconsistent dtypes.\n"
     ]
    }
   ],
   "source": [
    "# Check if dtypes are consistent\n",
    "ref_dtypes = windows[0].dtypes\n",
    "\n",
    "inconsistent_idx = []\n",
    "for i, w_df in enumerate(windows):\n",
    "    if not w_df.dtypes.equals(ref_dtypes):\n",
    "        inconsistent_idx.append(i)\n",
    "\n",
    "print(f\"{len(inconsistent_idx)} windows have inconsistent dtypes.\")"
   ]
  },
  {
   "cell_type": "code",
   "execution_count": 10,
   "id": "40b61e87-36c8-4728-a178-bdce72cb148a",
   "metadata": {},
   "outputs": [
    {
     "name": "stdout",
     "output_type": "stream",
     "text": [
      "First problem window:\n",
      "v            float64\n",
      "vw           float64\n",
      "o            float64\n",
      "c            float64\n",
      "h            float64\n",
      "l            float64\n",
      "t     datetime64[ns]\n",
      "n              int64\n",
      "dtype: object\n",
      "\n",
      "Reference window:\n",
      "v              int64\n",
      "vw           float64\n",
      "o            float64\n",
      "c            float64\n",
      "h            float64\n",
      "l            float64\n",
      "t     datetime64[ns]\n",
      "n              int64\n",
      "dtype: object\n",
      "\n"
     ]
    }
   ],
   "source": [
    "# Check first problem window\n",
    "print(f\"First problem window:\\n{windows[inconsistent_idx[0]][:].dtypes}\\n\")\n",
    "print(f\"Reference window:\\n{ref_dtypes}\\n\")"
   ]
  },
  {
   "cell_type": "code",
   "execution_count": 11,
   "id": "449d475f-0484-40e6-9059-3757153479a6",
   "metadata": {},
   "outputs": [],
   "source": [
    "# Convert volume to int \n",
    "for i in inconsistent_idx:\n",
    "    windows[i]['v'] = windows[i]['v'].round().astype('int64')"
   ]
  },
  {
   "cell_type": "code",
   "execution_count": 12,
   "id": "b53bff3a-f95c-43bc-ade4-f234c0c26508",
   "metadata": {},
   "outputs": [
    {
     "name": "stdout",
     "output_type": "stream",
     "text": [
      "0 windows have inconsistent dtypes.\n"
     ]
    }
   ],
   "source": [
    "# Check inconsistent windows again\n",
    "inconsistent_idx = []\n",
    "for i, w_df in enumerate(windows):\n",
    "    if not w_df.dtypes.equals(ref_dtypes):\n",
    "        inconsistent_idx.append(i)\n",
    "\n",
    "print(f\"{len(inconsistent_idx)} windows have inconsistent dtypes.\")"
   ]
  },
  {
   "cell_type": "code",
   "execution_count": 13,
   "id": "91e60707-556e-4794-9fdb-f42cd625bed3",
   "metadata": {
    "scrolled": true
   },
   "outputs": [
    {
     "name": "stdout",
     "output_type": "stream",
     "text": [
      "0 windows have incorrect time order\n"
     ]
    }
   ],
   "source": [
    "# Check chronological order for windows\n",
    "not_monotonic_time = np.array([not windows[i]['t'].is_monotonic_increasing for i in range(len(windows))])\n",
    "print(f\"{sum(not_monotonic_time)} windows have incorrect time order\")    "
   ]
  },
  {
   "cell_type": "markdown",
   "id": "f4536852-1572-432c-8419-6a0032eeaed6",
   "metadata": {},
   "source": [
    "## Distribution of some features"
   ]
  },
  {
   "cell_type": "code",
   "execution_count": 14,
   "id": "723c458b-27ae-49c9-b44c-49eb5162a27b",
   "metadata": {},
   "outputs": [],
   "source": [
    "import matplotlib.pyplot as plt"
   ]
  },
  {
   "cell_type": "code",
   "execution_count": 15,
   "id": "9314e0c5-f7fa-4ee7-b210-aec4df7f408d",
   "metadata": {},
   "outputs": [
    {
     "data": {
      "image/png": "[encoded data removed]",
      "text/plain": [
       "<Figure size 600x300 with 1 Axes>"
      ]
     },
     "metadata": {},
     "output_type": "display_data"
    }
   ],
   "source": [
    "# Distribution of the time of day of signal candles\n",
    "times_signal_h = []\n",
    "for w_df in windows:\n",
    "    time_signal_h = w_df['t'][I_SIGNAL_CANDLE]\n",
    "    hours = time_signal_h.hour + time_signal_h.minute/60 + time_signal_h.second/3600\n",
    "    times_signal_h.append(hours)\n",
    "\n",
    "plt.figure(figsize=(6,3))\n",
    "plt.hist(times_signal_h, bins=100, color='skyblue', edgecolor='black')\n",
    "plt.xlabel('Time of day (hours)')\n",
    "plt.ylabel('Count')\n",
    "plt.title('Distribution of time for signal candle')\n",
    "plt.xticks(range(8, 22, 1))\n",
    "plt.xlim(9, 20.5)\n",
    "plt.show()"
   ]
  },
  {
   "cell_type": "markdown",
   "id": "843e3078-4015-454e-bcff-ade0200e8dde",
   "metadata": {},
   "source": [
    "**Note:** More stocks qualify for window collection as the day progresses, which explains the peak at 16:00."
   ]
  },
  {
   "cell_type": "code",
   "execution_count": 16,
   "id": "cca6bcac-6455-45ef-83b1-c9b4eec9c618",
   "metadata": {},
   "outputs": [],
   "source": [
    "# Distribution of closing price for signal candle\n",
    "price_signals = np.array([w_df['c'].values[I_SIGNAL_CANDLE] for w_df in windows])"
   ]
  },
  {
   "cell_type": "code",
   "execution_count": 17,
   "id": "12141964-d096-4624-aaf3-a7edc17fcca4",
   "metadata": {},
   "outputs": [
    {
     "data": {
      "image/png": "[encoded data removed]",
      "text/plain": [
       "<Figure size 600x300 with 1 Axes>"
      ]
     },
     "metadata": {},
     "output_type": "display_data"
    }
   ],
   "source": [
    "plt.figure(figsize=(6,3))\n",
    "plt.hist(price_signals, bins=1000, color='skyblue', edgecolor='black')\n",
    "plt.xlabel('Closing price signal candle')\n",
    "plt.ylabel('Count')\n",
    "plt.title(f'Distribution of closing price for signal candle')\n",
    "plt.xticks(range(1, 50, 2))\n",
    "plt.xlim(-0.5, 50)\n",
    "plt.show()"
   ]
  },
  {
   "cell_type": "code",
   "execution_count": 18,
   "id": "a4453914-c0f3-491a-9276-7920516a4269",
   "metadata": {},
   "outputs": [
    {
     "name": "stdout",
     "output_type": "stream",
     "text": [
      "Summary of closing price for signal candle:\n",
      "Mean: 14.49, Median: 3.74, Min: 0.07, Max: 849.25\n"
     ]
    }
   ],
   "source": [
    "mean_price_signals = np.mean(price_signals)   \n",
    "median = np.median(price_signals) \n",
    "Min = np.min(price_signals)        \n",
    "Max = np.max(price_signals)  \n",
    "print(f\"Summary of closing price for signal candle:\")\n",
    "print(f\"Mean: {mean_price_signals:.2f}, Median: {median:.2f}, Min: {Min:.2f}, Max: {Max:.2f}\")"
   ]
  },
  {
   "cell_type": "code",
   "execution_count": 19,
   "id": "2d98c500-6ca5-4b3f-9239-ebe80d0fd4af",
   "metadata": {},
   "outputs": [
    {
     "data": {
      "image/png": "[encoded data removed]",
      "text/plain": [
       "<Figure size 600x300 with 1 Axes>"
      ]
     },
     "metadata": {},
     "output_type": "display_data"
    }
   ],
   "source": [
    "signal_candle_perc = []\n",
    "for w_df in windows:\n",
    "    signal_candle_perc.append((w_df['c'][I_SIGNAL_CANDLE] - w_df['o'][I_SIGNAL_CANDLE]) / w_df['o'][I_SIGNAL_CANDLE])\n",
    "signal_candle_perc = np.array(signal_candle_perc)\n",
    "plt.figure(figsize=(6,3))\n",
    "plt.hist(signal_candle_perc, bins=350, color='skyblue', edgecolor='black')\n",
    "plt.xlabel('Signal candle (c-o)/o')\n",
    "plt.ylabel('Count')\n",
    "plt.title(f'Distribution of (c-o)/o for signal candle')\n",
    "plt.xticks(np.arange(-0.16, 0.16 + 0.01, 0.04))\n",
    "plt.xlim(-0.2, 0.2)\n",
    "plt.show()"
   ]
  },
  {
   "cell_type": "markdown",
   "id": "675f3796-067f-4750-82ee-97c4c00d5403",
   "metadata": {},
   "source": [
    "**Figure:** We can see that the windows are consciously chosen: every signal candle satisfies $|(c-o)/o| \\geq 0.04$."
   ]
  },
  {
   "cell_type": "code",
   "execution_count": 20,
   "id": "d69629d0-6537-418a-af79-7f71443df733",
   "metadata": {},
   "outputs": [
    {
     "name": "stdout",
     "output_type": "stream",
     "text": [
      "Signal candle (c-o)/o summary:\n",
      "Negative candles: min: -0.619, max: -0.040\n",
      "Positive candles: min: 0.040, max: 0.565\n"
     ]
    }
   ],
   "source": [
    "print(\"Signal candle (c-o)/o summary:\")\n",
    "print(f\"Negative candles: min: {np.min(signal_candle_perc):.3f}, max: {np.max(signal_candle_perc[signal_candle_perc < 0]):.3f}\")\n",
    "print(f\"Positive candles: min: {np.min(signal_candle_perc[signal_candle_perc > 0]):.3f}, max: {np.max(signal_candle_perc):.3f}\")"
   ]
  },
  {
   "cell_type": "code",
   "execution_count": 21,
   "id": "41db237c-7713-4322-aedf-08b650224bb9",
   "metadata": {},
   "outputs": [
    {
     "data": {
      "image/png": "[encoded data removed]",
      "text/plain": [
       "<Figure size 600x300 with 1 Axes>"
      ]
     },
     "metadata": {},
     "output_type": "display_data"
    }
   ],
   "source": [
    "# Distribution of day of month of windows\n",
    "dayofmonths = []\n",
    "for w_df in windows:\n",
    "    dayofmonths.append(w_df['t'].iloc[0].day)\n",
    "    \n",
    "plt.figure(figsize=(6,3))\n",
    "plt.hist(dayofmonths, bins=50, color='skyblue', edgecolor='black')\n",
    "plt.xlabel('Day of month')\n",
    "plt.ylabel('Number of windows')\n",
    "plt.title(f'Number of windows collected for each day of month')\n",
    "plt.xticks(np.arange(0, 31, 2))\n",
    "plt.xlim(0, 33)\n",
    "plt.show()"
   ]
  },
  {
   "cell_type": "markdown",
   "id": "1c292096-e543-46ba-84d3-daf05ed651f8",
   "metadata": {},
   "source": [
    "## Derive time features and create target"
   ]
  },
  {
   "cell_type": "code",
   "execution_count": 22,
   "id": "cfecce1d-9812-4e12-b4f4-f75efe508e65",
   "metadata": {
    "scrolled": true
   },
   "outputs": [
    {
     "name": "stdout",
     "output_type": "stream",
     "text": [
      "Number of rows up to and including signal candle: 21\n",
      "Number of columns: 8\n",
      "Number of raw features (nrows*ncols): 168\n"
     ]
    }
   ],
   "source": [
    "print(f\"Number of rows up to and including signal candle: {len(windows[0].iloc[:I_BUY_CANDLE])}\")\n",
    "print(f\"Number of columns: {len(windows[0].columns)}\")\n",
    "print(f\"Number of raw features (nrows*ncols): {len(windows[0].iloc[:I_BUY_CANDLE]) * len(windows[0].dtypes)}\")"
   ]
  },
  {
   "cell_type": "code",
   "execution_count": 23,
   "id": "f03108a0-ea39-42eb-80bc-52113e65769f",
   "metadata": {},
   "outputs": [
    {
     "data": {
      "text/plain": [
       "v              int64\n",
       "vw           float64\n",
       "o            float64\n",
       "c            float64\n",
       "h            float64\n",
       "l            float64\n",
       "t     datetime64[ns]\n",
       "n              int64\n",
       "dtype: object"
      ]
     },
     "execution_count": 23,
     "metadata": {},
     "output_type": "execute_result"
    }
   ],
   "source": [
    "windows[0].dtypes"
   ]
  },
  {
   "cell_type": "code",
   "execution_count": 24,
   "id": "cbf70134-1d80-4129-baab-ccc07780e291",
   "metadata": {},
   "outputs": [],
   "source": [
    "# Add return (continuous target) from open of buy candle to close of sell candle for each window\n",
    "for w_df in windows:\n",
    "    w_df['rtn'] = (w_df['c'][I_SELL_CANDLE] - w_df['o'][I_BUY_CANDLE]) / w_df['o'][I_BUY_CANDLE]"
   ]
  },
  {
   "cell_type": "code",
   "execution_count": 25,
   "id": "f5cc39ea-048f-4ebc-8418-eccb4e8c3872",
   "metadata": {},
   "outputs": [
    {
     "name": "stdout",
     "output_type": "stream",
     "text": [
      "Added time features (using windows[0].iloc[0]) as example):\n",
      "minute: 48\n",
      "hour: 15\n",
      "dayofweek: 4\n",
      "dayofmonth: 21\n",
      "dayofyear: 52\n",
      "month: 2\n",
      "halt: False\n"
     ]
    }
   ],
   "source": [
    "# Derive time features from 't'\n",
    "for w_df in windows:\n",
    "    w_df['minute'] = w_df['t'].dt.minute\n",
    "    w_df['hour'] = w_df['t'].dt.hour\n",
    "    w_df['dayofweek'] = w_df['t'].dt.dayofweek\n",
    "    w_df['dayofmonth'] = w_df['t'].dt.day\n",
    "    w_df['dayofyear'] = w_df['t'].dt.dayofyear\n",
    "    w_df['month'] = w_df['t'].dt.month\n",
    "\n",
    "    # Add 'halt' feature (if > 1min between signal candle and candle after (buy candle)\n",
    "    w_df['halt'] = (w_df['t'].iloc[I_BUY_CANDLE] - w_df['t'].iloc[I_SIGNAL_CANDLE]) > pd.Timedelta(minutes=1)\n",
    "\n",
    "\n",
    "print(f\"Added time features (using windows[0].iloc[0]) as example):\"\n",
    "      f\"\\nminute: {windows[0]['minute'].iloc[0]}\\nhour: {windows[0]['hour'].iloc[0]}\"\n",
    "      f\"\\ndayofweek: {windows[0]['dayofweek'].iloc[0]}\\ndayofmonth: {windows[0]['dayofmonth'].iloc[0]}\"\n",
    "      f\"\\ndayofyear: {windows[0]['dayofyear'].iloc[0]}\\nmonth: {windows[0]['month'].iloc[0]}\"\n",
    "      f\"\\nhalt: {windows[0]['halt'].iloc[0]}\")"
   ]
  },
  {
   "cell_type": "code",
   "execution_count": 26,
   "id": "2077501d-f020-4d35-866e-b53de1601b3b",
   "metadata": {},
   "outputs": [
    {
     "data": {
      "text/html": [
       "<div>\n",
       "<style scoped>\n",
       "    .dataframe tbody tr th:only-of-type {\n",
       "        vertical-align: middle;\n",
       "    }\n",
       "\n",
       "    .dataframe tbody tr th {\n",
       "        vertical-align: top;\n",
       "    }\n",
       "\n",
       "    .dataframe thead th {\n",
       "        text-align: right;\n",
       "    }\n",
       "</style>\n",
       "<table border=\"1\" class=\"dataframe\">\n",
       "  <thead>\n",
       "    <tr style=\"text-align: right;\">\n",
       "      <th></th>\n",
       "      <th>v</th>\n",
       "      <th>vw</th>\n",
       "      <th>o</th>\n",
       "      <th>c</th>\n",
       "      <th>h</th>\n",
       "      <th>l</th>\n",
       "      <th>t</th>\n",
       "      <th>n</th>\n",
       "      <th>rtn</th>\n",
       "      <th>minute</th>\n",
       "      <th>hour</th>\n",
       "      <th>dayofweek</th>\n",
       "      <th>dayofmonth</th>\n",
       "      <th>dayofyear</th>\n",
       "      <th>month</th>\n",
       "      <th>halt</th>\n",
       "    </tr>\n",
       "  </thead>\n",
       "  <tbody>\n",
       "    <tr>\n",
       "      <th>0</th>\n",
       "      <td>16771</td>\n",
       "      <td>27.7948</td>\n",
       "      <td>27.755</td>\n",
       "      <td>27.7900</td>\n",
       "      <td>27.840</td>\n",
       "      <td>27.7550</td>\n",
       "      <td>2025-02-21 15:48:00</td>\n",
       "      <td>242</td>\n",
       "      <td>-0.009385</td>\n",
       "      <td>48</td>\n",
       "      <td>15</td>\n",
       "      <td>4</td>\n",
       "      <td>21</td>\n",
       "      <td>52</td>\n",
       "      <td>2</td>\n",
       "      <td>False</td>\n",
       "    </tr>\n",
       "    <tr>\n",
       "      <th>1</th>\n",
       "      <td>8376</td>\n",
       "      <td>27.7565</td>\n",
       "      <td>27.780</td>\n",
       "      <td>27.7650</td>\n",
       "      <td>27.790</td>\n",
       "      <td>27.7100</td>\n",
       "      <td>2025-02-21 15:49:00</td>\n",
       "      <td>124</td>\n",
       "      <td>-0.009385</td>\n",
       "      <td>49</td>\n",
       "      <td>15</td>\n",
       "      <td>4</td>\n",
       "      <td>21</td>\n",
       "      <td>52</td>\n",
       "      <td>2</td>\n",
       "      <td>False</td>\n",
       "    </tr>\n",
       "    <tr>\n",
       "      <th>2</th>\n",
       "      <td>16524</td>\n",
       "      <td>27.7511</td>\n",
       "      <td>27.765</td>\n",
       "      <td>27.7500</td>\n",
       "      <td>27.780</td>\n",
       "      <td>27.7300</td>\n",
       "      <td>2025-02-21 15:50:00</td>\n",
       "      <td>221</td>\n",
       "      <td>-0.009385</td>\n",
       "      <td>50</td>\n",
       "      <td>15</td>\n",
       "      <td>4</td>\n",
       "      <td>21</td>\n",
       "      <td>52</td>\n",
       "      <td>2</td>\n",
       "      <td>False</td>\n",
       "    </tr>\n",
       "    <tr>\n",
       "      <th>3</th>\n",
       "      <td>17292</td>\n",
       "      <td>27.7074</td>\n",
       "      <td>27.745</td>\n",
       "      <td>27.6900</td>\n",
       "      <td>27.750</td>\n",
       "      <td>27.6850</td>\n",
       "      <td>2025-02-21 15:51:00</td>\n",
       "      <td>246</td>\n",
       "      <td>-0.009385</td>\n",
       "      <td>51</td>\n",
       "      <td>15</td>\n",
       "      <td>4</td>\n",
       "      <td>21</td>\n",
       "      <td>52</td>\n",
       "      <td>2</td>\n",
       "      <td>False</td>\n",
       "    </tr>\n",
       "    <tr>\n",
       "      <th>4</th>\n",
       "      <td>19804</td>\n",
       "      <td>27.6796</td>\n",
       "      <td>27.700</td>\n",
       "      <td>27.6740</td>\n",
       "      <td>27.710</td>\n",
       "      <td>27.6500</td>\n",
       "      <td>2025-02-21 15:52:00</td>\n",
       "      <td>246</td>\n",
       "      <td>-0.009385</td>\n",
       "      <td>52</td>\n",
       "      <td>15</td>\n",
       "      <td>4</td>\n",
       "      <td>21</td>\n",
       "      <td>52</td>\n",
       "      <td>2</td>\n",
       "      <td>False</td>\n",
       "    </tr>\n",
       "    <tr>\n",
       "      <th>5</th>\n",
       "      <td>23903</td>\n",
       "      <td>27.6273</td>\n",
       "      <td>27.665</td>\n",
       "      <td>27.5850</td>\n",
       "      <td>27.703</td>\n",
       "      <td>27.5500</td>\n",
       "      <td>2025-02-21 15:53:00</td>\n",
       "      <td>250</td>\n",
       "      <td>-0.009385</td>\n",
       "      <td>53</td>\n",
       "      <td>15</td>\n",
       "      <td>4</td>\n",
       "      <td>21</td>\n",
       "      <td>52</td>\n",
       "      <td>2</td>\n",
       "      <td>False</td>\n",
       "    </tr>\n",
       "    <tr>\n",
       "      <th>6</th>\n",
       "      <td>43268</td>\n",
       "      <td>27.5722</td>\n",
       "      <td>27.575</td>\n",
       "      <td>27.5750</td>\n",
       "      <td>27.603</td>\n",
       "      <td>27.5430</td>\n",
       "      <td>2025-02-21 15:54:00</td>\n",
       "      <td>471</td>\n",
       "      <td>-0.009385</td>\n",
       "      <td>54</td>\n",
       "      <td>15</td>\n",
       "      <td>4</td>\n",
       "      <td>21</td>\n",
       "      <td>52</td>\n",
       "      <td>2</td>\n",
       "      <td>False</td>\n",
       "    </tr>\n",
       "    <tr>\n",
       "      <th>7</th>\n",
       "      <td>30053</td>\n",
       "      <td>27.4358</td>\n",
       "      <td>27.560</td>\n",
       "      <td>27.3300</td>\n",
       "      <td>27.560</td>\n",
       "      <td>27.3300</td>\n",
       "      <td>2025-02-21 15:55:00</td>\n",
       "      <td>328</td>\n",
       "      <td>-0.009385</td>\n",
       "      <td>55</td>\n",
       "      <td>15</td>\n",
       "      <td>4</td>\n",
       "      <td>21</td>\n",
       "      <td>52</td>\n",
       "      <td>2</td>\n",
       "      <td>False</td>\n",
       "    </tr>\n",
       "    <tr>\n",
       "      <th>8</th>\n",
       "      <td>42423</td>\n",
       "      <td>27.2484</td>\n",
       "      <td>27.320</td>\n",
       "      <td>27.2251</td>\n",
       "      <td>27.320</td>\n",
       "      <td>27.1600</td>\n",
       "      <td>2025-02-21 15:56:00</td>\n",
       "      <td>513</td>\n",
       "      <td>-0.009385</td>\n",
       "      <td>56</td>\n",
       "      <td>15</td>\n",
       "      <td>4</td>\n",
       "      <td>21</td>\n",
       "      <td>52</td>\n",
       "      <td>2</td>\n",
       "      <td>False</td>\n",
       "    </tr>\n",
       "    <tr>\n",
       "      <th>9</th>\n",
       "      <td>46713</td>\n",
       "      <td>27.2400</td>\n",
       "      <td>27.235</td>\n",
       "      <td>27.2900</td>\n",
       "      <td>27.300</td>\n",
       "      <td>27.2150</td>\n",
       "      <td>2025-02-21 15:57:00</td>\n",
       "      <td>566</td>\n",
       "      <td>-0.009385</td>\n",
       "      <td>57</td>\n",
       "      <td>15</td>\n",
       "      <td>4</td>\n",
       "      <td>21</td>\n",
       "      <td>52</td>\n",
       "      <td>2</td>\n",
       "      <td>False</td>\n",
       "    </tr>\n",
       "    <tr>\n",
       "      <th>10</th>\n",
       "      <td>80741</td>\n",
       "      <td>27.2075</td>\n",
       "      <td>27.290</td>\n",
       "      <td>27.1800</td>\n",
       "      <td>27.290</td>\n",
       "      <td>27.1600</td>\n",
       "      <td>2025-02-21 15:58:00</td>\n",
       "      <td>652</td>\n",
       "      <td>-0.009385</td>\n",
       "      <td>58</td>\n",
       "      <td>15</td>\n",
       "      <td>4</td>\n",
       "      <td>21</td>\n",
       "      <td>52</td>\n",
       "      <td>2</td>\n",
       "      <td>False</td>\n",
       "    </tr>\n",
       "    <tr>\n",
       "      <th>11</th>\n",
       "      <td>194777</td>\n",
       "      <td>27.1017</td>\n",
       "      <td>27.180</td>\n",
       "      <td>27.0200</td>\n",
       "      <td>27.200</td>\n",
       "      <td>27.0100</td>\n",
       "      <td>2025-02-21 15:59:00</td>\n",
       "      <td>965</td>\n",
       "      <td>-0.009385</td>\n",
       "      <td>59</td>\n",
       "      <td>15</td>\n",
       "      <td>4</td>\n",
       "      <td>21</td>\n",
       "      <td>52</td>\n",
       "      <td>2</td>\n",
       "      <td>False</td>\n",
       "    </tr>\n",
       "    <tr>\n",
       "      <th>12</th>\n",
       "      <td>41507</td>\n",
       "      <td>27.0400</td>\n",
       "      <td>27.040</td>\n",
       "      <td>27.0400</td>\n",
       "      <td>27.040</td>\n",
       "      <td>27.0400</td>\n",
       "      <td>2025-02-21 16:00:00</td>\n",
       "      <td>30</td>\n",
       "      <td>-0.009385</td>\n",
       "      <td>0</td>\n",
       "      <td>16</td>\n",
       "      <td>4</td>\n",
       "      <td>21</td>\n",
       "      <td>52</td>\n",
       "      <td>2</td>\n",
       "      <td>False</td>\n",
       "    </tr>\n",
       "    <tr>\n",
       "      <th>13</th>\n",
       "      <td>510</td>\n",
       "      <td>27.0612</td>\n",
       "      <td>27.060</td>\n",
       "      <td>27.0600</td>\n",
       "      <td>27.060</td>\n",
       "      <td>27.0600</td>\n",
       "      <td>2025-02-21 16:22:00</td>\n",
       "      <td>3</td>\n",
       "      <td>-0.009385</td>\n",
       "      <td>22</td>\n",
       "      <td>16</td>\n",
       "      <td>4</td>\n",
       "      <td>21</td>\n",
       "      <td>52</td>\n",
       "      <td>2</td>\n",
       "      <td>False</td>\n",
       "    </tr>\n",
       "    <tr>\n",
       "      <th>14</th>\n",
       "      <td>151166</td>\n",
       "      <td>27.0400</td>\n",
       "      <td>27.040</td>\n",
       "      <td>27.0400</td>\n",
       "      <td>27.040</td>\n",
       "      <td>27.0400</td>\n",
       "      <td>2025-02-21 16:35:00</td>\n",
       "      <td>1</td>\n",
       "      <td>-0.009385</td>\n",
       "      <td>35</td>\n",
       "      <td>16</td>\n",
       "      <td>4</td>\n",
       "      <td>21</td>\n",
       "      <td>52</td>\n",
       "      <td>2</td>\n",
       "      <td>False</td>\n",
       "    </tr>\n",
       "    <tr>\n",
       "      <th>15</th>\n",
       "      <td>2357</td>\n",
       "      <td>27.4399</td>\n",
       "      <td>27.440</td>\n",
       "      <td>27.4400</td>\n",
       "      <td>27.440</td>\n",
       "      <td>27.4400</td>\n",
       "      <td>2025-02-21 16:36:00</td>\n",
       "      <td>2</td>\n",
       "      <td>-0.009385</td>\n",
       "      <td>36</td>\n",
       "      <td>16</td>\n",
       "      <td>4</td>\n",
       "      <td>21</td>\n",
       "      <td>52</td>\n",
       "      <td>2</td>\n",
       "      <td>False</td>\n",
       "    </tr>\n",
       "    <tr>\n",
       "      <th>16</th>\n",
       "      <td>10030</td>\n",
       "      <td>27.4389</td>\n",
       "      <td>27.400</td>\n",
       "      <td>27.4400</td>\n",
       "      <td>27.440</td>\n",
       "      <td>27.4000</td>\n",
       "      <td>2025-02-21 16:37:00</td>\n",
       "      <td>8</td>\n",
       "      <td>-0.009385</td>\n",
       "      <td>37</td>\n",
       "      <td>16</td>\n",
       "      <td>4</td>\n",
       "      <td>21</td>\n",
       "      <td>52</td>\n",
       "      <td>2</td>\n",
       "      <td>False</td>\n",
       "    </tr>\n",
       "    <tr>\n",
       "      <th>17</th>\n",
       "      <td>2201</td>\n",
       "      <td>27.4419</td>\n",
       "      <td>27.400</td>\n",
       "      <td>27.4900</td>\n",
       "      <td>27.490</td>\n",
       "      <td>27.4000</td>\n",
       "      <td>2025-02-21 16:38:00</td>\n",
       "      <td>19</td>\n",
       "      <td>-0.009385</td>\n",
       "      <td>38</td>\n",
       "      <td>16</td>\n",
       "      <td>4</td>\n",
       "      <td>21</td>\n",
       "      <td>52</td>\n",
       "      <td>2</td>\n",
       "      <td>False</td>\n",
       "    </tr>\n",
       "    <tr>\n",
       "      <th>18</th>\n",
       "      <td>1000</td>\n",
       "      <td>27.4604</td>\n",
       "      <td>27.470</td>\n",
       "      <td>27.4600</td>\n",
       "      <td>27.470</td>\n",
       "      <td>27.4500</td>\n",
       "      <td>2025-02-21 16:41:00</td>\n",
       "      <td>9</td>\n",
       "      <td>-0.009385</td>\n",
       "      <td>41</td>\n",
       "      <td>16</td>\n",
       "      <td>4</td>\n",
       "      <td>21</td>\n",
       "      <td>52</td>\n",
       "      <td>2</td>\n",
       "      <td>False</td>\n",
       "    </tr>\n",
       "    <tr>\n",
       "      <th>19</th>\n",
       "      <td>13918</td>\n",
       "      <td>28.2318</td>\n",
       "      <td>28.239</td>\n",
       "      <td>28.2500</td>\n",
       "      <td>28.280</td>\n",
       "      <td>28.1400</td>\n",
       "      <td>2025-02-21 16:48:00</td>\n",
       "      <td>61</td>\n",
       "      <td>-0.009385</td>\n",
       "      <td>48</td>\n",
       "      <td>16</td>\n",
       "      <td>4</td>\n",
       "      <td>21</td>\n",
       "      <td>52</td>\n",
       "      <td>2</td>\n",
       "      <td>False</td>\n",
       "    </tr>\n",
       "    <tr>\n",
       "      <th>20</th>\n",
       "      <td>2617</td>\n",
       "      <td>28.5521</td>\n",
       "      <td>27.870</td>\n",
       "      <td>29.0300</td>\n",
       "      <td>29.030</td>\n",
       "      <td>27.8700</td>\n",
       "      <td>2025-02-21 16:49:00</td>\n",
       "      <td>44</td>\n",
       "      <td>-0.009385</td>\n",
       "      <td>49</td>\n",
       "      <td>16</td>\n",
       "      <td>4</td>\n",
       "      <td>21</td>\n",
       "      <td>52</td>\n",
       "      <td>2</td>\n",
       "      <td>False</td>\n",
       "    </tr>\n",
       "    <tr>\n",
       "      <th>21</th>\n",
       "      <td>230</td>\n",
       "      <td>28.7422</td>\n",
       "      <td>28.770</td>\n",
       "      <td>28.7700</td>\n",
       "      <td>28.770</td>\n",
       "      <td>28.7700</td>\n",
       "      <td>2025-02-21 16:50:00</td>\n",
       "      <td>2</td>\n",
       "      <td>-0.009385</td>\n",
       "      <td>50</td>\n",
       "      <td>16</td>\n",
       "      <td>4</td>\n",
       "      <td>21</td>\n",
       "      <td>52</td>\n",
       "      <td>2</td>\n",
       "      <td>False</td>\n",
       "    </tr>\n",
       "    <tr>\n",
       "      <th>22</th>\n",
       "      <td>4121</td>\n",
       "      <td>29.5868</td>\n",
       "      <td>29.460</td>\n",
       "      <td>30.0000</td>\n",
       "      <td>30.000</td>\n",
       "      <td>28.7700</td>\n",
       "      <td>2025-02-21 16:52:00</td>\n",
       "      <td>46</td>\n",
       "      <td>-0.009385</td>\n",
       "      <td>52</td>\n",
       "      <td>16</td>\n",
       "      <td>4</td>\n",
       "      <td>21</td>\n",
       "      <td>52</td>\n",
       "      <td>2</td>\n",
       "      <td>False</td>\n",
       "    </tr>\n",
       "    <tr>\n",
       "      <th>23</th>\n",
       "      <td>700</td>\n",
       "      <td>29.9389</td>\n",
       "      <td>29.910</td>\n",
       "      <td>29.9100</td>\n",
       "      <td>29.910</td>\n",
       "      <td>29.9100</td>\n",
       "      <td>2025-02-21 16:53:00</td>\n",
       "      <td>7</td>\n",
       "      <td>-0.009385</td>\n",
       "      <td>53</td>\n",
       "      <td>16</td>\n",
       "      <td>4</td>\n",
       "      <td>21</td>\n",
       "      <td>52</td>\n",
       "      <td>2</td>\n",
       "      <td>False</td>\n",
       "    </tr>\n",
       "    <tr>\n",
       "      <th>24</th>\n",
       "      <td>300</td>\n",
       "      <td>28.2900</td>\n",
       "      <td>28.360</td>\n",
       "      <td>28.1501</td>\n",
       "      <td>28.360</td>\n",
       "      <td>28.1501</td>\n",
       "      <td>2025-02-21 17:08:00</td>\n",
       "      <td>2</td>\n",
       "      <td>-0.009385</td>\n",
       "      <td>8</td>\n",
       "      <td>17</td>\n",
       "      <td>4</td>\n",
       "      <td>21</td>\n",
       "      <td>52</td>\n",
       "      <td>2</td>\n",
       "      <td>False</td>\n",
       "    </tr>\n",
       "    <tr>\n",
       "      <th>25</th>\n",
       "      <td>500</td>\n",
       "      <td>28.5000</td>\n",
       "      <td>28.500</td>\n",
       "      <td>28.5000</td>\n",
       "      <td>28.500</td>\n",
       "      <td>28.5000</td>\n",
       "      <td>2025-02-21 17:09:00</td>\n",
       "      <td>3</td>\n",
       "      <td>-0.009385</td>\n",
       "      <td>9</td>\n",
       "      <td>17</td>\n",
       "      <td>4</td>\n",
       "      <td>21</td>\n",
       "      <td>52</td>\n",
       "      <td>2</td>\n",
       "      <td>False</td>\n",
       "    </tr>\n",
       "  </tbody>\n",
       "</table>\n",
       "</div>"
      ],
      "text/plain": [
       "         v       vw       o        c       h        l                   t  \\\n",
       "0    16771  27.7948  27.755  27.7900  27.840  27.7550 2025-02-21 15:48:00   \n",
       "1     8376  27.7565  27.780  27.7650  27.790  27.7100 2025-02-21 15:49:00   \n",
       "2    16524  27.7511  27.765  27.7500  27.780  27.7300 2025-02-21 15:50:00   \n",
       "3    17292  27.7074  27.745  27.6900  27.750  27.6850 2025-02-21 15:51:00   \n",
       "4    19804  27.6796  27.700  27.6740  27.710  27.6500 2025-02-21 15:52:00   \n",
       "5    23903  27.6273  27.665  27.5850  27.703  27.5500 2025-02-21 15:53:00   \n",
       "6    43268  27.5722  27.575  27.5750  27.603  27.5430 2025-02-21 15:54:00   \n",
       "7    30053  27.4358  27.560  27.3300  27.560  27.3300 2025-02-21 15:55:00   \n",
       "8    42423  27.2484  27.320  27.2251  27.320  27.1600 2025-02-21 15:56:00   \n",
       "9    46713  27.2400  27.235  27.2900  27.300  27.2150 2025-02-21 15:57:00   \n",
       "10   80741  27.2075  27.290  27.1800  27.290  27.1600 2025-02-21 15:58:00   \n",
       "11  194777  27.1017  27.180  27.0200  27.200  27.0100 2025-02-21 15:59:00   \n",
       "12   41507  27.0400  27.040  27.0400  27.040  27.0400 2025-02-21 16:00:00   \n",
       "13     510  27.0612  27.060  27.0600  27.060  27.0600 2025-02-21 16:22:00   \n",
       "14  151166  27.0400  27.040  27.0400  27.040  27.0400 2025-02-21 16:35:00   \n",
       "15    2357  27.4399  27.440  27.4400  27.440  27.4400 2025-02-21 16:36:00   \n",
       "16   10030  27.4389  27.400  27.4400  27.440  27.4000 2025-02-21 16:37:00   \n",
       "17    2201  27.4419  27.400  27.4900  27.490  27.4000 2025-02-21 16:38:00   \n",
       "18    1000  27.4604  27.470  27.4600  27.470  27.4500 2025-02-21 16:41:00   \n",
       "19   13918  28.2318  28.239  28.2500  28.280  28.1400 2025-02-21 16:48:00   \n",
       "20    2617  28.5521  27.870  29.0300  29.030  27.8700 2025-02-21 16:49:00   \n",
       "21     230  28.7422  28.770  28.7700  28.770  28.7700 2025-02-21 16:50:00   \n",
       "22    4121  29.5868  29.460  30.0000  30.000  28.7700 2025-02-21 16:52:00   \n",
       "23     700  29.9389  29.910  29.9100  29.910  29.9100 2025-02-21 16:53:00   \n",
       "24     300  28.2900  28.360  28.1501  28.360  28.1501 2025-02-21 17:08:00   \n",
       "25     500  28.5000  28.500  28.5000  28.500  28.5000 2025-02-21 17:09:00   \n",
       "\n",
       "      n       rtn  minute  hour  dayofweek  dayofmonth  dayofyear  month  \\\n",
       "0   242 -0.009385      48    15          4          21         52      2   \n",
       "1   124 -0.009385      49    15          4          21         52      2   \n",
       "2   221 -0.009385      50    15          4          21         52      2   \n",
       "3   246 -0.009385      51    15          4          21         52      2   \n",
       "4   246 -0.009385      52    15          4          21         52      2   \n",
       "5   250 -0.009385      53    15          4          21         52      2   \n",
       "6   471 -0.009385      54    15          4          21         52      2   \n",
       "7   328 -0.009385      55    15          4          21         52      2   \n",
       "8   513 -0.009385      56    15          4          21         52      2   \n",
       "9   566 -0.009385      57    15          4          21         52      2   \n",
       "10  652 -0.009385      58    15          4          21         52      2   \n",
       "11  965 -0.009385      59    15          4          21         52      2   \n",
       "12   30 -0.009385       0    16          4          21         52      2   \n",
       "13    3 -0.009385      22    16          4          21         52      2   \n",
       "14    1 -0.009385      35    16          4          21         52      2   \n",
       "15    2 -0.009385      36    16          4          21         52      2   \n",
       "16    8 -0.009385      37    16          4          21         52      2   \n",
       "17   19 -0.009385      38    16          4          21         52      2   \n",
       "18    9 -0.009385      41    16          4          21         52      2   \n",
       "19   61 -0.009385      48    16          4          21         52      2   \n",
       "20   44 -0.009385      49    16          4          21         52      2   \n",
       "21    2 -0.009385      50    16          4          21         52      2   \n",
       "22   46 -0.009385      52    16          4          21         52      2   \n",
       "23    7 -0.009385      53    16          4          21         52      2   \n",
       "24    2 -0.009385       8    17          4          21         52      2   \n",
       "25    3 -0.009385       9    17          4          21         52      2   \n",
       "\n",
       "     halt  \n",
       "0   False  \n",
       "1   False  \n",
       "2   False  \n",
       "3   False  \n",
       "4   False  \n",
       "5   False  \n",
       "6   False  \n",
       "7   False  \n",
       "8   False  \n",
       "9   False  \n",
       "10  False  \n",
       "11  False  \n",
       "12  False  \n",
       "13  False  \n",
       "14  False  \n",
       "15  False  \n",
       "16  False  \n",
       "17  False  \n",
       "18  False  \n",
       "19  False  \n",
       "20  False  \n",
       "21  False  \n",
       "22  False  \n",
       "23  False  \n",
       "24  False  \n",
       "25  False  "
      ]
     },
     "execution_count": 26,
     "metadata": {},
     "output_type": "execute_result"
    }
   ],
   "source": [
    "windows[0]"
   ]
  },
  {
   "cell_type": "markdown",
   "id": "deee994c-310b-45e3-ad64-584326ec84e3",
   "metadata": {},
   "source": [
    "**Note:** Minute difference between rows doesn't have to be 1: candles with no volume are not included."
   ]
  },
  {
   "cell_type": "markdown",
   "id": "07fbe2cf-adcf-4f5f-a5fd-dcb541f05bb3",
   "metadata": {},
   "source": [
    "## Flatten windows and create feature dictionary"
   ]
  },
  {
   "cell_type": "code",
   "execution_count": 27,
   "id": "82d8af73-012d-4b2f-b897-2e5270f55ca4",
   "metadata": {},
   "outputs": [
    {
     "name": "stdout",
     "output_type": "stream",
     "text": [
      "(23163, 195)\n",
      "Features per window: 195 - 1\n"
     ]
    }
   ],
   "source": [
    "# Flatten windows\n",
    "all_rows = [] # row = flattened window\n",
    "skip_cols = ['rtn', 't', 'dayofweek', 'dayofmonth', 'dayofyear', 'month', 'halt'] \n",
    "\n",
    "for w_df in windows:\n",
    "    flattened = w_df.iloc[:I_BUY_CANDLE].drop(columns=skip_cols, errors='ignore').values.flatten(order='F')\n",
    "    # features that are constant in each window\n",
    "    rtn_value = w_df['rtn'].iloc[0]\n",
    "    dayofweek = w_df['dayofweek'].iloc[0]\n",
    "    dayofmonth = w_df['dayofmonth'][0]\n",
    "    dayofyear = w_df['dayofyear'].iloc[0]\n",
    "    month = w_df['month'].iloc[0]\n",
    "    halt = w_df['halt'].iloc[0]\n",
    "    \n",
    "    row = np.array([rtn_value] + list(flattened) + [dayofweek, dayofmonth, dayofyear, month, halt]) # flattened window\n",
    "\n",
    "    all_rows.append(row)\n",
    "\n",
    "n_full_cols = flattened.shape[0] # Number of columns for which all rows are used\n",
    "assert n_full_cols % (N_CANDLES_BEFORE + 1) == 0\n",
    "\n",
    "df_flattened_windows = pd.DataFrame(all_rows)  # directly from the list of lists\n",
    "\n",
    "print(df_flattened_windows.shape)\n",
    "print(f\"Features per window: {df_flattened_windows.shape[1]} - 1\")"
   ]
  },
  {
   "cell_type": "code",
   "execution_count": 28,
   "id": "b35e7085-ac04-4f23-8ce3-a6373260614a",
   "metadata": {},
   "outputs": [],
   "source": [
    "# Create feature dictionary for flattened windows\n",
    "\n",
    "headers_full_cols = ['v', 'vw', 'o', 'c', 'h', 'l', 'n', 'minute', 'hour']\n",
    "raw_features_dict = {}\n",
    "\n",
    "# First column\n",
    "raw_features_dict[0] = 'rtn'\n",
    "\n",
    "# Columns with whose all rows are used\n",
    "for i in range(1, n_full_cols + 1):  \n",
    "    if (i - 1) % (N_CANDLES_BEFORE + 1) == 0:\n",
    "        # change header\n",
    "        header = headers_full_cols[i // (N_CANDLES_BEFORE + 1)]\n",
    "    candle = (i - 1) % (N_CANDLES_BEFORE + 1)\n",
    "    raw_features_dict[i] = f\"{header}_candle_{candle+1}\"\n",
    "\n",
    "# Columns with only one value\n",
    "for i in range(len(skip_cols) - 2): # 'rtn' already first col, 't' is splitted to other time features\n",
    "    raw_features_dict[i + n_full_cols + 1] = f\"{skip_cols[i+2]}\""
   ]
  },
  {
   "cell_type": "markdown",
   "id": "da9fbb96-e8d4-4c2b-b8fd-e4fa03dd04d6",
   "metadata": {},
   "source": [
    "## Screening with correlations and decision trees"
   ]
  },
  {
   "cell_type": "code",
   "execution_count": 29,
   "id": "02872b2c-5a7b-499c-aa7e-f2852935bdbd",
   "metadata": {},
   "outputs": [],
   "source": [
    "# Pearson and Spearman correlations for all columns vs first column (target)\n",
    "\n",
    "pearsons = df_flattened_windows.corr(method='pearson')[0] \n",
    "spearmans = df_flattened_windows.corr(method='spearman')[0]\n",
    "\n",
    "pearsons_abs = pearsons.abs()\n",
    "spearmans_abs = spearmans.abs()"
   ]
  },
  {
   "cell_type": "code",
   "execution_count": 30,
   "id": "36f9ff61-dca8-406e-a256-64d72eac7c8c",
   "metadata": {},
   "outputs": [
    {
     "name": "stdout",
     "output_type": "stream",
     "text": [
      "     Top 20 Pearson:                                    Top 20 Spearman:\n",
      "                                         Pearson                                            Spearman\n",
      "1    Column 0 (rtn)                      1.0000         Column 0 (rtn)                      1.0000\n",
      "2    Column 145 (n_candle_19)            -0.0226        Column 145 (n_candle_19)            -0.0566\n",
      "3    Column 146 (n_candle_20)            -0.0182        Column 146 (n_candle_20)            -0.0562\n",
      "4    Column 184 (hour_candle_16)         0.0181         Column 144 (n_candle_18)            -0.0531\n",
      "5    Column 182 (hour_candle_14)         0.0180         Column 19 (v_candle_19)             -0.0512\n",
      "6    Column 181 (hour_candle_13)         0.0180         Column 20 (v_candle_20)             -0.0496\n",
      "7    Column 186 (hour_candle_18)         0.0180         Column 18 (v_candle_18)             -0.0495\n",
      "8    Column 183 (hour_candle_15)         0.0179         Column 143 (n_candle_17)            -0.0491\n",
      "9    Column 188 (hour_candle_20)         0.0179         Column 17 (v_candle_17)             -0.0461\n",
      "10   Column 187 (hour_candle_19)         0.0179         Column 147 (n_candle_21)            -0.0445\n",
      "11   Column 185 (hour_candle_17)         0.0179         Column 139 (n_candle_13)            -0.0443\n",
      "12   Column 180 (hour_candle_12)         0.0175         Column 142 (n_candle_16)            -0.0437\n",
      "13   Column 179 (hour_candle_11)         0.0174         Column 141 (n_candle_15)            -0.0430\n",
      "14   Column 189 (hour_candle_21)         0.0173         Column 138 (n_candle_12)            -0.0424\n",
      "15   Column 172 (hour_candle_4)          0.0168         Column 12 (v_candle_12)             -0.0423\n",
      "16   Column 131 (n_candle_5)             -0.0166        Column 13 (v_candle_13)             -0.0402\n",
      "17   Column 178 (hour_candle_10)         0.0166         Column 135 (n_candle_9)             -0.0390\n",
      "18   Column 173 (hour_candle_5)          0.0164         Column 137 (n_candle_11)            -0.0390\n",
      "19   Column 175 (hour_candle_7)          0.0164         Column 136 (n_candle_10)            -0.0389\n",
      "20   Column 174 (hour_candle_6)          0.0164         Column 134 (n_candle_8)             -0.0386\n"
     ]
    }
   ],
   "source": [
    "# Print top correlations\n",
    "\n",
    "# Print settings\n",
    "L_1 = 35 # left adjust first print\n",
    "L_2 = 10 # left adjust second print\n",
    "\n",
    "top_n_corr = 20\n",
    "\n",
    "top_n_pear_abs = pearsons_abs.sort_values(ascending=False).head(top_n_corr)\n",
    "top_n_pear = pearsons[top_n_pear_abs.index]\n",
    "\n",
    "top_n_spear_abs = spearmans_abs.sort_values(ascending=False).head(top_n_corr)\n",
    "top_n_spear = spearmans[top_n_spear_abs.index]\n",
    "\n",
    "print(\"\".ljust(4), f\"Top {top_n_corr} Pearson:\".ljust(L_1+15), f\"Top {top_n_corr} Spearman:\".ljust(12))\n",
    "\n",
    "print(\"\".ljust(L_1+5), \"Pearson\".ljust(L_1+15), \"Spearman\")\n",
    "for i in range(top_n_corr):\n",
    "    print(f\"{i+1}\".ljust(4), f\"Column {top_n_pear.index[i]} ({raw_features_dict[top_n_pear.index[i]]})\".ljust(L_1),\\\n",
    "          f\"{top_n_pear.iloc[i]:.4f}\".ljust(14),\\\n",
    "          f\"Column {top_n_spear.index[i]} ({raw_features_dict[top_n_spear.index[i]]})\".ljust(L_1),\\\n",
    "          f\"{top_n_spear.iloc[i]:.4f}\")"
   ]
  },
  {
   "cell_type": "markdown",
   "id": "4e1ec525-caaa-45a1-b7e0-c5dbb7b24c85",
   "metadata": {},
   "source": [
    "n, hour, minute, v possibly interesting"
   ]
  },
  {
   "cell_type": "code",
   "execution_count": 80,
   "id": "fc33c05c-51e8-493e-b0df-db26c64d0e27",
   "metadata": {},
   "outputs": [
    {
     "data": {
      "image/png": "[encoded data removed]",
      "text/plain": [
       "<Figure size 600x300 with 1 Axes>"
      ]
     },
     "metadata": {},
     "output_type": "display_data"
    }
   ],
   "source": [
    "# Histogram of correlations\n",
    "plt.figure(figsize=(6,3))\n",
    "plt.hist(pearsons, bins=4000, color='red', alpha=0.8, label=\"Pearson\")\n",
    "plt.hist(spearmans, bins=4000, color='blue', label=\"Spearman\")\n",
    "plt.xlabel('correlation')\n",
    "plt.ylabel('Frequency')\n",
    "plt.title(f'Distribution of correlations')\n",
    "plt.xticks(np.arange(-0.06, 0.06, 0.02))\n",
    "plt.xlim(-0.06, 0.06)\n",
    "plt.legend()\n",
    "plt.show()"
   ]
  },
  {
   "cell_type": "code",
   "execution_count": 32,
   "id": "7d3e10ea-60e9-48ea-a8b2-04a1c8ce5da0",
   "metadata": {},
   "outputs": [],
   "source": [
    "# Decision tree screening\n",
    "\n",
    "from sklearn.tree import DecisionTreeRegressor\n",
    "\n",
    "X = df_flattened_windows.iloc[:, 1:]  # all features\n",
    "y = df_flattened_windows.iloc[:, 0]   # target\n",
    "\n",
    "results_d1 = {}\n",
    "results_d2 = {}\n",
    "\n",
    "# custom depth\n",
    "d = 10\n",
    "results_d = {}\n",
    "\n",
    "save_thr_d1 = []\n",
    "for col in X.columns:\n",
    "    tree_d1 = DecisionTreeRegressor(max_depth=1)\n",
    "    tree_d1.fit(X[[col]], y)  # X[[col]] keeps it as 2D\n",
    "    score_d1 = tree_d1.score(X[[col]], y)  # R^2 score\n",
    "    results_d1[col] = score_d1\n",
    "    save_thr_d1.append((tree_d1.tree_.threshold, tree_d1.tree_.value))\n",
    "    \n",
    "    tree_d2 = DecisionTreeRegressor(max_depth=2)\n",
    "    tree_d2.fit(X[[col]], y)  # note: X[[col]] keeps it as 2D\n",
    "    score_d2 = tree_d2.score(X[[col]], y)  # R^2 score\n",
    "    results_d2[col] = score_d2   \n",
    "\n",
    "    tree_d = DecisionTreeRegressor(max_depth=d)\n",
    "    tree_d.fit(X[[col]], y)  # note: X[[col]] keeps it as 2D\n",
    "    score_d = tree_d.score(X[[col]], y)  # R^2 score\n",
    "    results_d[col] = score_d"
   ]
  },
  {
   "cell_type": "code",
   "execution_count": 33,
   "id": "30073309-3e34-4b47-92f1-16f97ec776cf",
   "metadata": {},
   "outputs": [
    {
     "name": "stdout",
     "output_type": "stream",
     "text": [
      "Top 20 R^2 scores from depth 1, depth 2 and depth 10 decision trees:\n",
      "\n",
      "          Depth 1                   Depth 2                   Depth 10\n",
      "\n",
      "1    l_candle_13     0.012     c_candle_13     0.013     vw_candle_14    0.070\n",
      "2    c_candle_13     0.011     l_candle_13     0.013     vw_candle_15    0.068\n",
      "3    vw_candle_13    0.011     o_candle_13     0.012     vw_candle_17    0.063\n",
      "4    o_candle_13     0.011     c_candle_12     0.012     l_candle_2      0.062\n",
      "5    c_candle_12     0.011     vw_candle_13    0.012     l_candle_14     0.062\n",
      "6    l_candle_14     0.010     c_candle_14     0.012     l_candle_10     0.060\n",
      "7    o_candle_14     0.010     l_candle_18     0.012     vw_candle_16    0.059\n",
      "8    vw_candle_14    0.010     o_candle_14     0.011     vw_candle_13    0.058\n",
      "9    c_candle_14     0.010     l_candle_14     0.011     o_candle_12     0.057\n",
      "10   l_candle_18     0.009     vw_candle_14    0.011     o_candle_14     0.055\n",
      "11   h_candle_14     0.009     l_candle_12     0.011     c_candle_12     0.055\n",
      "12   l_candle_12     0.009     h_candle_14     0.011     c_candle_14     0.055\n",
      "13   o_candle_15     0.009     vw_candle_12    0.010     vw_candle_10    0.055\n",
      "14   c_candle_15     0.009     o_candle_10     0.010     l_candle_11     0.054\n",
      "15   h_candle_15     0.009     l_candle_15     0.010     h_candle_12     0.052\n",
      "16   vw_candle_12    0.009     h_candle_15     0.010     o_candle_15     0.052\n",
      "17   vw_candle_15    0.008     vw_candle_15    0.010     vw_candle_3     0.050\n",
      "18   o_candle_16     0.008     vw_candle_11    0.010     o_candle_10     0.050\n",
      "19   l_candle_15     0.008     o_candle_15     0.010     vw_candle_12    0.050\n",
      "20   l_candle_17     0.008     vw_candle_18    0.010     vw_candle_18    0.050\n"
     ]
    }
   ],
   "source": [
    "n_top = 20\n",
    "\n",
    "d1_sorted = sorted(results_d1.items(), key=lambda x: x[1], reverse=True)\n",
    "top_d1 = d1_sorted[:n_top]\n",
    "\n",
    "d2_sorted = sorted(results_d2.items(), key=lambda x: x[1], reverse=True)\n",
    "top_d2 = d2_sorted[:n_top]\n",
    "\n",
    "d_sorted = sorted(results_d.items(), key=lambda x: x[1], reverse=True)\n",
    "top_d = d_sorted[:n_top]\n",
    "\n",
    "print(f\"Top {n_top} R^2 scores from depth 1, depth 2 and depth {d} decision trees:\\n\")\n",
    "print(\"\".ljust(9), \"Depth 1\".ljust(25), \"Depth 2\".ljust(25), f\"Depth {d}\\n\")\n",
    "for i in range(n_top):\n",
    "    print(f\"{i+1}\".ljust(4),\n",
    "          f\"{raw_features_dict[top_d1[i][0]]}\".ljust(15), f\"{top_d1[i][1]:.3f}\".ljust(9),\\\n",
    "          f\"{raw_features_dict[top_d2[i][0]]}\".ljust(15), f\"{top_d2[i][1]:.3f}\".ljust(9),\\\n",
    "          f\"{raw_features_dict[top_d[i][0]]}\".ljust(15), f\"{top_d[i][1]:.3f}\")"
   ]
  },
  {
   "cell_type": "markdown",
   "id": "0313796f-8cd4-4673-8cf0-5761557d2df9",
   "metadata": {},
   "source": [
    "vw, o, h c, l possibly interesting"
   ]
  },
  {
   "cell_type": "markdown",
   "id": "54a48ad5-5de7-458c-94d9-8574fb88d2ee",
   "metadata": {},
   "source": [
    "## Baseline return"
   ]
  },
  {
   "cell_type": "code",
   "execution_count": 34,
   "id": "f5a57615-f2a6-434f-9645-3a77f8969b1e",
   "metadata": {},
   "outputs": [
    {
     "name": "stdout",
     "output_type": "stream",
     "text": [
      "Mean baseline return (using only initial stock selection filter): 0.0000025749\n"
     ]
    }
   ],
   "source": [
    "# Baseline return\n",
    "returns = np.stack([w_df['rtn'][0] for w_df in windows])\n",
    "baseline = np.mean(returns)\n",
    "print(f\"Mean baseline return (using only initial stock selection filter): {baseline:.10f}\")"
   ]
  },
  {
   "cell_type": "code",
   "execution_count": 81,
   "id": "c0e41dc6-d71c-49ca-8a33-7dfd68a2fd0d",
   "metadata": {},
   "outputs": [
    {
     "data": {
      "image/png": "[encoded data removed]",
      "text/plain": [
       "<Figure size 600x300 with 1 Axes>"
      ]
     },
     "metadata": {},
     "output_type": "display_data"
    }
   ],
   "source": [
    "plt.figure(figsize=(6,3))\n",
    "plt.hist(returns, bins=500, color='black', label=\"top10\")\n",
    "plt.title(\"Distribution of returns using only initial filter\")\n",
    "plt.xlabel(\"Return\")\n",
    "plt.ylabel(\"Frequency\")\n",
    "plt.show()"
   ]
  },
  {
   "cell_type": "markdown",
   "id": "2d18d940-ea48-418b-aeb3-0ca31d23685c",
   "metadata": {},
   "source": [
    "## Engineer features"
   ]
  },
  {
   "cell_type": "code",
   "execution_count": 36,
   "id": "47fa548c-e48e-4ab4-a51e-f4e6e62ce893",
   "metadata": {},
   "outputs": [],
   "source": [
    "# Function to check engineered features\n",
    "def check_nans_infs(array, shape=True):\n",
    "    inf_mask = np.isinf(array)\n",
    "    nans_mask = np.isnan(array)\n",
    "    print(f\"infs: {np.sum(inf_mask)}\")\n",
    "    print(f\"nans: {np.sum(nans_mask)}\")\n",
    "    if shape:\n",
    "        print(f\"Shape: {array.shape}\")"
   ]
  },
  {
   "cell_type": "code",
   "execution_count": 37,
   "id": "1e5539c1-52a0-4205-9401-0115314e35fd",
   "metadata": {},
   "outputs": [],
   "source": [
    "def slope_parts(stack, n_parts, window_len=I_SIGNAL_CANDLE):\n",
    "    \"\"\"v has shape (len(windows), m), where m >= I_SIGNAL_CANDLE\n",
    "       Divide axis 1 into n_parts, return slope for each part and each row.\n",
    "\n",
    "       Slices each part from the end, so the last candles (closest to the signal candle) are prioritized.\n",
    "       If I_SIGNAL_CANDLE % n_parts != 0, older candles at the beginning may be ignored.\"\"\"\n",
    "    stack = stack[:, :window_len]\n",
    "    n_candles = I_SIGNAL_CANDLE // n_parts\n",
    "    x = np.arange(n_candles)\n",
    "    x_mean = x.mean()\n",
    "    x_ssd = np.sum((x - x_mean)**2)\n",
    "    slopes = np.zeros((len(windows), n_parts))\n",
    "    for i in range(n_parts):\n",
    "        part = stack[:, I_SIGNAL_CANDLE - (i+1) * n_candles:I_SIGNAL_CANDLE - i * n_candles]\n",
    "        slopes[:, i] = np.sum((part - part.mean(axis=1).reshape(-1, 1)) * (x - x_mean), axis=1) / x_ssd\n",
    "    return slopes"
   ]
  },
  {
   "cell_type": "code",
   "execution_count": 38,
   "id": "d7618cd7-db8f-4dba-ad43-72cf1420588e",
   "metadata": {},
   "outputs": [],
   "source": [
    "def normalize_stack(stack, window_len, eps=1e-8):\n",
    "    \"\"\" Normalize stack with using max-min.\n",
    "        Shape: (num_windows, window_len).\n",
    "    \"\"\"\n",
    "    stack_min = np.min(stack[:, :window_len], axis=1).reshape(-1, 1)\n",
    "    stack_max = np.max(stack[:, :window_len], axis=1).reshape(-1, 1)\n",
    "    norm = (stack[:, :window_len] - stack_min) / np.where(stack_max - stack_min == 0, eps, stack_max - stack_min)\n",
    "    return norm"
   ]
  },
  {
   "cell_type": "code",
   "execution_count": 39,
   "id": "bf530fe8-9cee-45de-a736-93621af6a2cf",
   "metadata": {},
   "outputs": [],
   "source": [
    "def crtn_slopes(price_setting):\n",
    "    \"\"\"Return cumulative returns and slopes of cumulative returns,\n",
    "    given price_setting.\"\"\"\n",
    "    price_stack = np.stack([w_df[price_setting].to_numpy() for w_df in windows])\n",
    "    price_0 = price_stack[:, 0][:, None]\n",
    "    crtn = (price_stack[:, 1:I_BUY_CANDLE] - price_0) / price_0\n",
    "    #crtn = np.log(price_stack[:, 1:I_BUY_CANDLE] / price_0) # maybe instead\n",
    "    crtn_slope_1 = slope_parts(crtn, n_parts=1)\n",
    "    crtn_slope_2 = slope_parts(crtn, n_parts=2)\n",
    "    crtn_slope_4 = slope_parts(crtn, n_parts=4)\n",
    "    return crtn, crtn_slope_1, crtn_slope_2, crtn_slope_4"
   ]
  },
  {
   "cell_type": "code",
   "execution_count": 40,
   "id": "309e545a-1738-48f3-ac56-70fd6b946fcc",
   "metadata": {},
   "outputs": [],
   "source": [
    "# cumulative return from candle 0 to signal candle, price_setting = 'o'\n",
    "# name: E_crtn_o\n",
    "n_crtn_o = 20\n",
    "\n",
    "# Cumulative rtn slope for full window, not incl. signal\n",
    "# name: E_crtn_o_slope_1\n",
    "n_crtn_o_slope_1 = 1\n",
    "\n",
    "# Cumulative rtn slope 2 parts, not incl. signal\n",
    "# name: E_crtn_o_slope_2\n",
    "n_crtn_o_slope_2 = 2\n",
    "\n",
    "# Cumulative rtn slope 4 parts, not incl. signal\n",
    "# name: E_crtn_o_slope_4\n",
    "n_crtn_o_slope_4 = 4\n",
    "\n",
    "crtn_o, crtn_o_slope_1, crtn_o_slope_2, crtn_o_slope_4 = crtn_slopes(price_setting='o')"
   ]
  },
  {
   "cell_type": "code",
   "execution_count": 41,
   "id": "0e3de553-818d-4186-b32b-928b14f5fc53",
   "metadata": {},
   "outputs": [],
   "source": [
    "# cumulative return from candle 0 to signal candle, price_setting = 'c'\n",
    "# name: E_crtn_c\n",
    "n_crtn_c = 20\n",
    "\n",
    "# Cumulative rtn slope for full window, not incl. signal\n",
    "# name: E_crtn_c_slope_1\n",
    "n_crtn_c_slope_1 = 1\n",
    "\n",
    "# Cumulative rtn slope 2 parts, not incl. signal\n",
    "# name: E_crtn_c_slope_2\n",
    "n_crtn_c_slope_2 = 2\n",
    "\n",
    "# Cumulative rtn slope 4 parts, not incl. signal\n",
    "# name: E_crtn_c_slope_4\n",
    "n_crtn_c_slope_4 = 4\n",
    "\n",
    "crtn_c, crtn_c_slope_1, crtn_c_slope_2, crtn_c_slope_4 = crtn_slopes(price_setting='c')"
   ]
  },
  {
   "cell_type": "code",
   "execution_count": 42,
   "id": "63e8312c-8f97-4ac3-b6ef-c74e8f4a5d56",
   "metadata": {},
   "outputs": [],
   "source": [
    "# cumulative return from candle 0 to signal candle, price_setting = 'h'\n",
    "# name: E_crtn_h\n",
    "n_crtn_h = 20\n",
    "\n",
    "# Cumulative rtn slope for full window, not incl. signal\n",
    "# name: E_crtn_h_slope_1\n",
    "n_crtn_h_slope_1 = 1\n",
    "\n",
    "# Cumulative rtn slope 2 parts, not incl. signal\n",
    "# name: E_crtn_h_slope_2\n",
    "n_crtn_h_slope_2 = 2\n",
    "\n",
    "# Cumulative rtn slope 4 parts, not incl. signal\n",
    "# name: E_crtn_h_slope_4\n",
    "n_crtn_h_slope_4 = 4\n",
    "\n",
    "crtn_h, crtn_h_slope_1, crtn_h_slope_2, crtn_h_slope_4 = crtn_slopes(price_setting='h')"
   ]
  },
  {
   "cell_type": "code",
   "execution_count": 43,
   "id": "5cb7ac5b-5fe6-4987-a99d-739671750aa0",
   "metadata": {},
   "outputs": [],
   "source": [
    "# cumulative return from candle 0 to signal candle, price_setting = 'l'\n",
    "# name: E_crtn_l\n",
    "n_crtn_l = 20\n",
    "\n",
    "# Cumulative rtn slope for full window, not incl. signal\n",
    "# name: E_crtn_l_slope_1\n",
    "n_crtn_l_slope_1 = 1\n",
    "\n",
    "# Cumulative rtn slope 2 parts, not incl. signal\n",
    "# name: E_crtn_h_slope_2\n",
    "n_crtn_l_slope_2 = 2\n",
    "\n",
    "# Cumulative rtn slope 4 parts, not incl. signal\n",
    "# name: E_crtn_h_slope_4\n",
    "n_crtn_l_slope_4 = 4\n",
    "\n",
    "crtn_l, crtn_l_slope_1, crtn_l_slope_2, crtn_l_slope_4 = crtn_slopes(price_setting='l')"
   ]
  },
  {
   "cell_type": "code",
   "execution_count": 44,
   "id": "f71bfe19-61f3-4240-9602-92e17c2cf9f2",
   "metadata": {},
   "outputs": [
    {
     "name": "stdout",
     "output_type": "stream",
     "text": [
      "infs: 0\n",
      "nans: 0\n",
      "Shape: (23163, 20)\n"
     ]
    }
   ],
   "source": [
    "# close to close return for candles 2, ... ,signal_candle (first candle has no previous)\n",
    "# name: E_cc_rtn    (E for engineered)\n",
    "n_cc_rtn = 20 # 20 candles\n",
    "\n",
    "closes = np.stack([w_df['c'].to_numpy() for w_df in windows])\n",
    "cc_rtn = (closes[:, 1:I_BUY_CANDLE] - closes[:, :I_BUY_CANDLE-1]) / closes[:, :I_BUY_CANDLE-1]\n",
    "\n",
    "check_nans_infs(cc_rtn)"
   ]
  },
  {
   "cell_type": "code",
   "execution_count": 45,
   "id": "43c52dd4-001b-438b-b6cb-0f2ade5bb0d5",
   "metadata": {},
   "outputs": [
    {
     "name": "stdout",
     "output_type": "stream",
     "text": [
      "infs: 0\n",
      "nans: 0\n",
      "Shape: (23163, 21)\n"
     ]
    }
   ],
   "source": [
    "# Rel. dist to vwap: (price - vwap) / vwap for each candle\n",
    "# name: E_vw_dist\n",
    "n_vw_dist = 21\n",
    "\n",
    "price_setting = 'h'\n",
    "\n",
    "vw_stack = np.stack([w_df['vw'].to_numpy() for w_df in windows])\n",
    "price_stack = np.stack([w_df[price_setting].to_numpy() for w_df in windows])\n",
    "vw_dist = (price_stack[:, :I_BUY_CANDLE] - vw_stack[:, :I_BUY_CANDLE]) / vw_stack[:, :I_BUY_CANDLE]\n",
    "\n",
    "check_nans_infs(vw_dist)"
   ]
  },
  {
   "cell_type": "code",
   "execution_count": 46,
   "id": "3d2e43c5-6443-4e22-a4cc-a26f5c9526bf",
   "metadata": {},
   "outputs": [
    {
     "name": "stdout",
     "output_type": "stream",
     "text": [
      "infs: 0\n",
      "nans: 0\n",
      "Shape: (23163, 1)\n"
     ]
    }
   ],
   "source": [
    "# Close signal candle relative to high, low:\n",
    "# (close_signal_candle - low_prevs) / (high_prevs - low_prevs)\n",
    "# name: E_signal_high_low\n",
    "n_signal_high_low = 1\n",
    "\n",
    "n_prev = 20\n",
    "\n",
    "lows = np.stack([w_df['l'].to_numpy() for w_df in windows])\n",
    "lows_prev = np.min(lows[:, I_SIGNAL_CANDLE - n_prev:I_SIGNAL_CANDLE], axis=1)\n",
    "highs = np.stack([w_df['h'].to_numpy() for w_df in windows])\n",
    "highs_prev = np.max(highs[:, I_SIGNAL_CANDLE - n_prev:I_SIGNAL_CANDLE], axis=1)\n",
    "signal_close = np.stack([w_df['c'].to_numpy()[I_SIGNAL_CANDLE] for w_df in windows])\n",
    "\n",
    "signal_high_low = (signal_close - lows_prev) / (highs_prev - lows_prev)\n",
    "\n",
    "signal_high_low = signal_high_low.reshape(-1, 1)\n",
    "check_nans_infs(signal_high_low)"
   ]
  },
  {
   "cell_type": "code",
   "execution_count": 47,
   "id": "cbd35532-c84c-4b30-b0a0-2dfd4978ad72",
   "metadata": {},
   "outputs": [
    {
     "name": "stdout",
     "output_type": "stream",
     "text": [
      "infs: 0\n",
      "nans: 0\n",
      "Shape: (23163, 21)\n"
     ]
    }
   ],
   "source": [
    "# Normalize volume: vol_norm = (v - v_min) / (v_max - v_min)\n",
    "# name: E_vol_norm\n",
    "n_vol_norm = 21\n",
    "\n",
    "vol_stack = np.stack([w_df['v'].to_numpy() for w_df in windows])\n",
    "vol_norm = normalize_stack(vol_stack, I_BUY_CANDLE)\n",
    "\n",
    "check_nans_infs(vol_norm)"
   ]
  },
  {
   "cell_type": "code",
   "execution_count": 48,
   "id": "1f2e31b9-3337-4825-a06f-02dfc79d2439",
   "metadata": {},
   "outputs": [
    {
     "name": "stdout",
     "output_type": "stream",
     "text": [
      "infs: 0\n",
      "nans: 0\n",
      "Shape: (23163, 1)\n"
     ]
    }
   ],
   "source": [
    "# Normalized volume slope full window, not incl. signal\n",
    "# name: E_norm_vol_slope_1\n",
    "n_norm_vol_slope_1 = 1\n",
    "\n",
    "norm_vol_slope_1 = slope_parts(vol_norm, n_parts=1)\n",
    "\n",
    "check_nans_infs(norm_vol_slope_1)"
   ]
  },
  {
   "cell_type": "code",
   "execution_count": 49,
   "id": "a91b3516-3bc4-4e44-99f0-60efa7136b72",
   "metadata": {},
   "outputs": [
    {
     "name": "stdout",
     "output_type": "stream",
     "text": [
      "infs: 0\n",
      "nans: 0\n",
      "Shape: (23163, 2)\n"
     ]
    }
   ],
   "source": [
    "# Normalized volume slope 2 parts\n",
    "# name: E_norm_vol_slope_2\n",
    "n_norm_vol_slope_2 = 2\n",
    "\n",
    "norm_vol_slope_2 = slope_parts(vol_norm, n_parts=2)\n",
    "\n",
    "check_nans_infs(norm_vol_slope_2)"
   ]
  },
  {
   "cell_type": "code",
   "execution_count": 50,
   "id": "94face57-bf7b-446a-8d96-49189224862a",
   "metadata": {},
   "outputs": [
    {
     "name": "stdout",
     "output_type": "stream",
     "text": [
      "infs: 0\n",
      "nans: 0\n",
      "Shape: (23163, 4)\n"
     ]
    }
   ],
   "source": [
    "# Normalized volume slope 4 parts\n",
    "# name: E_norm_vol_slope_4\n",
    "n_norm_vol_slope_4 = 4\n",
    "\n",
    "norm_vol_slope_4 = slope_parts(vol_norm, n_parts=4)\n",
    "\n",
    "check_nans_infs(norm_vol_slope_4)"
   ]
  },
  {
   "cell_type": "code",
   "execution_count": 51,
   "id": "003830b6-3a7e-4435-86dc-46d8b50216be",
   "metadata": {},
   "outputs": [
    {
     "name": "stdout",
     "output_type": "stream",
     "text": [
      "infs: 0\n",
      "nans: 0\n",
      "Shape: (23163, 21)\n"
     ]
    }
   ],
   "source": [
    "# Normalize 'n': n_norm = (n - n_min) / (n_max - n_min)\n",
    "# name: E_n_norm\n",
    "n_n_norm = 21\n",
    "\n",
    "n_stack = np.stack([w_df['n'].to_numpy() for w_df in windows])\n",
    "n_norm = normalize_stack(n_stack, I_BUY_CANDLE)\n",
    "\n",
    "check_nans_infs(n_norm)"
   ]
  },
  {
   "cell_type": "code",
   "execution_count": 52,
   "id": "b5c10b57-8628-4ae5-92e8-67fb38ecae47",
   "metadata": {},
   "outputs": [
    {
     "name": "stdout",
     "output_type": "stream",
     "text": [
      "infs: 0\n",
      "nans: 0\n",
      "Shape: (23163, 1)\n"
     ]
    }
   ],
   "source": [
    "# Normalized n slope 1 part\n",
    "# name: E_norm_n_slope_1\n",
    "n_norm_n_slope_1 = 1\n",
    "\n",
    "norm_n_slope_1 = slope_parts(n_norm, n_parts=1)\n",
    "\n",
    "check_nans_infs(norm_n_slope_1)"
   ]
  },
  {
   "cell_type": "code",
   "execution_count": 53,
   "id": "0924aefc-92f3-4de7-9393-cf50d3eafcb6",
   "metadata": {},
   "outputs": [
    {
     "name": "stdout",
     "output_type": "stream",
     "text": [
      "infs: 0\n",
      "nans: 0\n",
      "Shape: (23163, 2)\n"
     ]
    }
   ],
   "source": [
    "# Normalized n slope 2 parts\n",
    "# name: E_norm_n_slope_2\n",
    "n_norm_n_slope_2 = 2\n",
    "\n",
    "norm_n_slope_2 = slope_parts(n_norm, n_parts=2)\n",
    "\n",
    "check_nans_infs(norm_n_slope_2)"
   ]
  },
  {
   "cell_type": "code",
   "execution_count": 54,
   "id": "80cff495-01c4-4e86-a1cb-ffa761568081",
   "metadata": {},
   "outputs": [
    {
     "name": "stdout",
     "output_type": "stream",
     "text": [
      "infs: 0\n",
      "nans: 0\n",
      "Shape: (23163, 4)\n"
     ]
    }
   ],
   "source": [
    "# Normalized n slope 4 parts\n",
    "# name: E_norm_n_slope_4\n",
    "n_norm_n_slope_4 = 4\n",
    "\n",
    "norm_n_slope_4 = slope_parts(n_norm, n_parts=4)\n",
    "\n",
    "check_nans_infs(norm_n_slope_4)"
   ]
  },
  {
   "cell_type": "code",
   "execution_count": 55,
   "id": "8a0fc8a3-5fcf-4675-8e02-d037d48cec4a",
   "metadata": {},
   "outputs": [
    {
     "name": "stdout",
     "output_type": "stream",
     "text": [
      "infs: 0\n",
      "nans: 0\n",
      "Shape: (23163, 1)\n"
     ]
    }
   ],
   "source": [
    "# vol_signal / vol_max\n",
    "# name: E_vol_sig_max\n",
    "n_vol_sig_max = 1\n",
    "\n",
    "eps = 1e-8\n",
    "vol_stack = np.stack([w_df['v'].to_numpy() for w_df in windows])\n",
    "volmax = np.max(vol_stack[:, :I_SIGNAL_CANDLE], axis=1)\n",
    "vol_sig_max = vol_stack[:, I_SIGNAL_CANDLE] / np.where(volmax == 0, eps, volmax)\n",
    "vol_sig_max = np.log(np.where(vol_sig_max <= 0, eps, vol_sig_max))\n",
    "\n",
    "vol_sig_max = vol_sig_max.reshape(-1, 1)\n",
    "check_nans_infs(vol_sig_max)"
   ]
  },
  {
   "cell_type": "code",
   "execution_count": 56,
   "id": "c63d0322-66bc-41c3-b359-6bea7997b038",
   "metadata": {
    "scrolled": true
   },
   "outputs": [
    {
     "name": "stdout",
     "output_type": "stream",
     "text": [
      "infs: 0\n",
      "nans: 0\n",
      "Shape: (23163, 1)\n"
     ]
    }
   ],
   "source": [
    "# vol_signal_candle / vol_n_prev_candles\n",
    "# name: E_sig_rel_vol\n",
    "n_sig_rel_vol = 1\n",
    "\n",
    "n_prev = 10\n",
    "\n",
    "v_matrix = np.stack([w_df['v'].to_numpy() for w_df in windows])\n",
    "vol_n_prev = np.sum(v_matrix[:, I_SIGNAL_CANDLE - n_prev:I_SIGNAL_CANDLE], axis=1)\n",
    "vol_signal = v_matrix[:, I_SIGNAL_CANDLE]\n",
    "sig_rel_vol = vol_signal / np.where(vol_n_prev == 0, 1e-8, vol_n_prev) # volume can be 0 for some candles\n",
    "\n",
    "sig_rel_vol = sig_rel_vol.reshape(-1, 1)\n",
    "check_nans_infs(sig_rel_vol)"
   ]
  },
  {
   "cell_type": "code",
   "execution_count": 57,
   "id": "8d269739-3c56-40b5-b835-0ac949af9114",
   "metadata": {},
   "outputs": [
    {
     "name": "stdout",
     "output_type": "stream",
     "text": [
      "infs: 0\n",
      "nans: 0\n",
      "Shape: (23163, 1)\n",
      "infs: 0\n",
      "nans: 0\n",
      "Shape: (23163, 1)\n",
      "infs: 0\n",
      "nans: 0\n",
      "Shape: (23163, 1)\n"
     ]
    }
   ],
   "source": [
    "# high--low convergence and high slope and low slope   (based on normalized highs and lows)\n",
    "# names:\n",
    "# E_norm_high_slope\n",
    "# E_norm_low_slope\n",
    "# E_highlow_gap_end\n",
    "n_norm_high_slope = 1\n",
    "n_norm_low_slope = 1\n",
    "n_highlow_gap_end = 1\n",
    "\n",
    "lows = np.stack([w_df['l'].to_numpy() for w_df in windows])[:, :I_SIGNAL_CANDLE]\n",
    "highs = np.stack([w_df['h'].to_numpy() for w_df in windows])[:, :I_SIGNAL_CANDLE]\n",
    "\n",
    "l_min = lows.min(axis=1).reshape(-1, 1)   # use the lowest low\n",
    "h_max = highs.max(axis=1).reshape(-1, 1)  # use the highest high\n",
    "\n",
    "highs_norm = (highs - l_min) / np.where(h_max - l_min == 0, 1e-8, h_max - l_min)\n",
    "lows_norm  = (lows  - l_min) / np.where(h_max - l_min == 0, 1e-8, h_max - l_min)\n",
    "\n",
    "norm_high_slope = np.zeros((len(windows), 1))\n",
    "norm_low_slope = np.zeros((len(windows), 1))\n",
    "highlow_gap_end = np.zeros((len(windows), 1))\n",
    "\n",
    "x = np.arange(I_SIGNAL_CANDLE)\n",
    "for i in range(len(windows)):\n",
    "    highs_linreg = np.polyfit(x, highs_norm[i, :], 1)\n",
    "    lows_linreg = np.polyfit(x, lows_norm[i, :], 1)\n",
    "    norm_high_slope[i, 0] = highs_linreg[0]\n",
    "    norm_low_slope[i, 0] = lows_linreg[0]\n",
    "    highlow_gap_end[i, 0] = highs_linreg[1] + highs_linreg[0] * x[-1] - (lows_linreg[1] + lows_linreg[0] * x[-1])\n",
    "\n",
    "check_nans_infs(norm_high_slope)\n",
    "check_nans_infs(norm_low_slope)\n",
    "check_nans_infs(highlow_gap_end)"
   ]
  },
  {
   "cell_type": "code",
   "execution_count": 58,
   "id": "fb72fea5-f0b2-4b8b-9640-7b11e7549271",
   "metadata": {},
   "outputs": [
    {
     "name": "stdout",
     "output_type": "stream",
     "text": [
      "infs: 0\n",
      "nans: 0\n",
      "Shape: (23163, 21)\n",
      "infs: 0\n",
      "nans: 0\n",
      "Shape: (23163, 21)\n",
      "infs: 0\n",
      "nans: 0\n",
      "Shape: (23163, 1)\n",
      "infs: 0\n",
      "nans: 0\n",
      "Shape: (23163, 1)\n",
      "infs: 0\n",
      "nans: 0\n",
      "Shape: (23163, 1)\n",
      "infs: 0\n",
      "nans: 0\n",
      "Shape: (23163, 1)\n"
     ]
    }
   ],
   "source": [
    "# Cyclical encoding of minute, hour, dayofweek, dayofmonth\n",
    "# names:\n",
    "# E_minute_cos\n",
    "# E_minute_sin\n",
    "# E_dayofweek_cos\n",
    "# E_dayofweek_sin\n",
    "# E_dayofmonth_cos\n",
    "# E_dayofmonth_sin\n",
    "\n",
    "n_minute_cos = 21\n",
    "n_minute_sin = 21\n",
    "n_dayofweek_cos = 1\n",
    "n_dayofweek_sin = 1\n",
    "n_dayofmonth_cos = 1\n",
    "n_dayofmonth_sin = 1\n",
    "\n",
    "\n",
    "minute = np.stack([w_df['minute'].to_numpy() for w_df in windows])[:, :I_BUY_CANDLE]\n",
    "dayofweek = np.stack([w_df['dayofweek'].to_numpy() for w_df in windows])[:, I_BUY_CANDLE]\n",
    "dayofmonth = np.stack([w_df['dayofmonth'].to_numpy() for w_df in windows])[:, I_BUY_CANDLE]\n",
    "\n",
    "minute_cos = np.cos(2 * np.pi * minute / 24)\n",
    "minute_sin = np.sin(2 * np.pi * minute / 24)\n",
    "\n",
    "dayofweek_cos = np.cos(2 * np.pi * dayofweek / 7).reshape(-1, 1)\n",
    "dayofweek_sin = np.sin(2 * np.pi * dayofweek / 7).reshape(-1, 1)\n",
    "\n",
    "dayofmonth_cos = np.cos(2 * np.pi * dayofmonth / 24).reshape(-1, 1)\n",
    "dayofmonth_sin = np.sin(2 * np.pi * dayofmonth / 24).reshape(-1, 1)\n",
    "\n",
    "check_nans_infs(minute_cos)\n",
    "check_nans_infs(minute_sin)\n",
    "check_nans_infs(dayofweek_cos)\n",
    "check_nans_infs(dayofweek_sin)\n",
    "check_nans_infs(dayofmonth_cos)\n",
    "check_nans_infs(dayofmonth_sin)"
   ]
  },
  {
   "cell_type": "code",
   "execution_count": 59,
   "id": "ad82fd7f-d09b-4eab-ab97-bc0febee5c83",
   "metadata": {},
   "outputs": [
    {
     "name": "stdout",
     "output_type": "stream",
     "text": [
      "infs: 0\n",
      "nans: 0\n",
      "Shape: (23163, 1)\n"
     ]
    }
   ],
   "source": [
    "# Normalized signal hour\n",
    "# name: E_signal_hour_norm\n",
    "n_signal_hour_norm = 1\n",
    "\n",
    "hour = np.stack([w_df['hour'] for w_df in windows])[:, I_SIGNAL_CANDLE]\n",
    "hour_max = np.max(hour)\n",
    "hour_min = np.min(hour)\n",
    "\n",
    "signal_hour_norm = (hour - hour_min) / (hour_max - hour_min)\n",
    "signal_hour_norm = signal_hour_norm.reshape(-1, 1)\n",
    "\n",
    "check_nans_infs(signal_hour_norm)"
   ]
  },
  {
   "cell_type": "code",
   "execution_count": 60,
   "id": "83b00394-975b-4ae8-863d-6fad90ea918b",
   "metadata": {},
   "outputs": [
    {
     "name": "stdout",
     "output_type": "stream",
     "text": [
      "infs: 0\n",
      "nans: 0\n",
      "Shape: (23163, 1)\n",
      "infs: 0\n",
      "nans: 0\n",
      "Shape: (23163, 1)\n"
     ]
    }
   ],
   "source": [
    "# Mean volume candles before signal\n",
    "# name: E_vol_mean\n",
    "n_vol_mean = 1\n",
    "\n",
    "vol_stack = np.stack([w_df['v'] for w_df in windows])\n",
    "vol_mean = np.mean(vol_stack[:, :I_SIGNAL_CANDLE], axis=1)\n",
    "vol_mean = vol_mean.reshape(-1,1)\n",
    "\n",
    "# vol_sig / mean_vol\n",
    "# name: E_vol_sig_vs_mean\n",
    "n_vol_sig_vs_mean = 1\n",
    "vol_sig_vs_mean = vol_stack[:, I_SIGNAL_CANDLE] / vol_mean[:, 0]\n",
    "vol_sig_vs_mean = vol_sig_vs_mean.reshape(-1, 1)\n",
    "\n",
    "check_nans_infs(vol_mean)\n",
    "check_nans_infs(vol_sig_vs_mean)"
   ]
  },
  {
   "cell_type": "code",
   "execution_count": 61,
   "id": "5c35a9ac-9167-463b-9004-2d33fb85c49f",
   "metadata": {},
   "outputs": [
    {
     "name": "stdout",
     "output_type": "stream",
     "text": [
      "infs: 0\n",
      "nans: 0\n",
      "Shape: (23163, 1)\n",
      "infs: 0\n",
      "nans: 0\n",
      "Shape: (23163, 1)\n"
     ]
    }
   ],
   "source": [
    "# Mean price candles before signal\n",
    "# name: E_price_mean\n",
    "n_price_mean = 1\n",
    "\n",
    "price_setting = 'c'\n",
    "\n",
    "c_stack = np.stack([w_df[price_setting] for w_df in windows])\n",
    "price_mean = np.mean(c_stack[:, :I_SIGNAL_CANDLE], axis=1)\n",
    "price_mean = price_mean.reshape(-1, 1)\n",
    "\n",
    "# c_signal / mean_price_c\n",
    "# name: E_price_sig_vs_mean\n",
    "n_price_sig_vs_mean = 1\n",
    "price_sig_vs_mean = c_stack[:, I_SIGNAL_CANDLE] / price_mean[:, 0]\n",
    "price_sig_vs_mean = price_sig_vs_mean.reshape(-1, 1)\n",
    "\n",
    "check_nans_infs(price_mean)\n",
    "check_nans_infs(price_sig_vs_mean)"
   ]
  },
  {
   "cell_type": "code",
   "execution_count": 62,
   "id": "72830234-ccb8-40c3-8437-f76d05ebabd6",
   "metadata": {},
   "outputs": [
    {
     "name": "stdout",
     "output_type": "stream",
     "text": [
      "infs: 0\n",
      "nans: 0\n",
      "Shape: (23163, 1)\n",
      "infs: 0\n",
      "nans: 0\n",
      "Shape: (23163, 1)\n"
     ]
    }
   ],
   "source": [
    "# Mean numtrades candles before signal\n",
    "# name: E_numtrades_mean\n",
    "n_numtrades_mean = 1\n",
    "numtrades_stack = np.stack([w_df['n'] for w_df in windows])\n",
    "numtrades_mean = np.mean(numtrades_stack[:, :I_SIGNAL_CANDLE], axis=1)\n",
    "numtrades_mean = numtrades_mean.reshape(-1, 1)\n",
    "\n",
    "# numtrades_signal / mean_numtrades\n",
    "# name: E_numtrades_sig_vs_mean\n",
    "n_numtrades_sig_vs_mean = 1\n",
    "numtrades_sig_vs_mean = numtrades_stack[:, I_SIGNAL_CANDLE] / numtrades_mean[:, 0]\n",
    "numtrades_sig_vs_mean = numtrades_sig_vs_mean.reshape(-1, 1)\n",
    "\n",
    "check_nans_infs(numtrades_mean)\n",
    "check_nans_infs(numtrades_sig_vs_mean)"
   ]
  },
  {
   "cell_type": "code",
   "execution_count": 63,
   "id": "8c81be1d-d06f-43fc-bef3-b8ec69ed2ccb",
   "metadata": {},
   "outputs": [
    {
     "name": "stdout",
     "output_type": "stream",
     "text": [
      "infs: 0\n",
      "nans: 0\n",
      "Shape: (23163, 1)\n",
      "infs: 0\n",
      "nans: 0\n",
      "Shape: (23163, 1)\n"
     ]
    }
   ],
   "source": [
    "# Mean dollar amount candles before signal\n",
    "# name: E_dollar_amount_mean\n",
    "n_dollar_amount_mean = 1\n",
    "\n",
    "price_setting = 'o'\n",
    "\n",
    "v_stack = np.stack([w_df['v'] for w_df in windows])\n",
    "price_stack = np.stack([w_df[price_setting] for w_df in windows])\n",
    "\n",
    "tot_dollar_amount = np.sum(v_stack[:, :I_SIGNAL_CANDLE] * price_stack[:, :I_SIGNAL_CANDLE], axis=1)\n",
    "dollar_amount_mean = tot_dollar_amount / I_SIGNAL_CANDLE\n",
    "dollar_amount_mean = dollar_amount_mean.reshape(-1, 1)\n",
    "\n",
    "# dollar_amount_signal / mean\n",
    "# name: E_dollar_amount_sig_vs_mean\n",
    "n_dollar_amount_sig_vs_mean = 1\n",
    "\n",
    "dollar_sig = v_stack[:, I_SIGNAL_CANDLE] * price_stack[:, I_SIGNAL_CANDLE]\n",
    "dollar_amount_sig_vs_mean = dollar_sig / dollar_amount_mean[:, 0]\n",
    "dollar_amount_sig_vs_mean = dollar_amount_sig_vs_mean.reshape(-1, 1)\n",
    "\n",
    "check_nans_infs(dollar_amount_mean)\n",
    "check_nans_infs(dollar_amount_sig_vs_mean)"
   ]
  },
  {
   "cell_type": "code",
   "execution_count": 64,
   "id": "4414a51b-aece-4983-8b3e-5b4353643662",
   "metadata": {},
   "outputs": [],
   "source": [
    "# Momentum indicators: RSI, MACD, cumulative returns   ?\n",
    "\n",
    "# Price ratios: close/open, high/low, close/prev_close. ?\n",
    "\n",
    "# Change most ratios to log?"
   ]
  },
  {
   "cell_type": "markdown",
   "id": "9abc062f-3ad3-4a18-b463-a90431bfb0a8",
   "metadata": {},
   "source": [
    "# Engineered features screening"
   ]
  },
  {
   "cell_type": "code",
   "execution_count": 65,
   "id": "09adbf94-8918-425e-9a12-500bee15b27f",
   "metadata": {},
   "outputs": [
    {
     "name": "stdout",
     "output_type": "stream",
     "text": [
      "(23163, 267)\n",
      "Number of engineered features: 267 - 1\n"
     ]
    }
   ],
   "source": [
    "# Engineered features dict\n",
    "         \n",
    "dict_E = {\n",
    "          'E_crtn_o':                     n_crtn_o,\n",
    "          'E_crtn_o_slope_1':             n_crtn_o_slope_1,\n",
    "          'E_crtn_o_slope_2':             n_crtn_o_slope_2,\n",
    "          'E_crtn_o_slope_4':             n_crtn_o_slope_4,\n",
    "          'E_crtn_c':                     n_crtn_c,\n",
    "          'E_crtn_c_slope_1':             n_crtn_c_slope_1,\n",
    "          'E_crtn_c_slope_2':             n_crtn_c_slope_2,\n",
    "          'E_crtn_c_slope_4':             n_crtn_c_slope_4,\n",
    "          'E_crtn_h':                     n_crtn_h,\n",
    "          'E_crtn_h_slope_1':             n_crtn_h_slope_1,\n",
    "          'E_crtn_h_slope_2':             n_crtn_h_slope_2,\n",
    "          'E_crtn_h_slope_4':             n_crtn_h_slope_4,\n",
    "          'E_crtn_l':                     n_crtn_l,\n",
    "          'E_crtn_l_slope_1':             n_crtn_l_slope_1,\n",
    "          'E_crtn_l_slope_2':             n_crtn_l_slope_2,\n",
    "          'E_crtn_l_slope_4':             n_crtn_l_slope_4,\n",
    "          'E_cc_rtn':                     n_cc_rtn,\n",
    "          'E_vw_dist':                    n_vw_dist,\n",
    "          'E_signal_high_low':            n_signal_high_low,\n",
    "          'E_vol_norm':                   n_vol_norm,\n",
    "          'E_norm_vol_slope_1':           n_norm_vol_slope_1,\n",
    "          'E_norm_vol_slope_2':           n_norm_vol_slope_2,\n",
    "          'E_norm_vol_slope_4':           n_norm_vol_slope_4,\n",
    "          'E_n_norm':                     n_n_norm,     \n",
    "          'E_norm_n_slope_1':             n_norm_n_slope_1,\n",
    "          'E_norm_n_slope_2':             n_norm_n_slope_2,\n",
    "          'E_norm_n_slope_4':             n_norm_n_slope_4,\n",
    "          'E_vol_sig_max':                n_vol_sig_max,\n",
    "          'E_sig_rel_vol':                n_sig_rel_vol,\n",
    "          'E_norm_high_slope':            n_norm_high_slope,\n",
    "          'E_norm_low_slope':             n_norm_low_slope,\n",
    "          'E_highlow_gap_end':            n_highlow_gap_end,\n",
    "          'E_minute_cos':                 n_minute_cos,\n",
    "          'E_minute_sin':                 n_minute_sin,\n",
    "          'E_dayofweek_cos':              n_dayofweek_cos,\n",
    "          'E_dayofweek_sin' :             n_dayofweek_sin,\n",
    "          'E_dayofmonth_cos':             n_dayofmonth_cos,\n",
    "          'E_dayofmonth_sin':             n_dayofmonth_sin,\n",
    "          'E_signal_hour_norm':           n_signal_hour_norm,\n",
    "          'E_vol_mean':                   n_vol_mean,\n",
    "          'E_vol_sig_vs_mean':            n_vol_sig_vs_mean,\n",
    "          'E_price_mean':                 n_price_mean,\n",
    "          'E_price_sig_vs_mean':          n_price_sig_vs_mean,\n",
    "          'E_numtrades_mean':             n_numtrades_mean,\n",
    "          'E_numtrades_sig_vs_mean':      n_numtrades_sig_vs_mean,\n",
    "          'E_dollar_amount_mean':         n_dollar_amount_mean,\n",
    "          'E_dollar_amount_sig_vs_mean':  n_dollar_amount_sig_vs_mean,    \n",
    "         }\n",
    "\n",
    "rtn_stack = np.stack([w_df['rtn'].to_numpy()[0] for w_df in windows]).reshape(-1, 1)\n",
    "\n",
    "flattened_windows_E = np.hstack((\n",
    "                            rtn_stack,\n",
    "                            crtn_o,\n",
    "                            crtn_o_slope_1,\n",
    "                            crtn_o_slope_2,\n",
    "                            crtn_o_slope_4,\n",
    "                            crtn_c,\n",
    "                            crtn_c_slope_1,\n",
    "                            crtn_c_slope_2,\n",
    "                            crtn_c_slope_4,\n",
    "                            crtn_h,\n",
    "                            crtn_h_slope_1,\n",
    "                            crtn_h_slope_2,\n",
    "                            crtn_h_slope_4,\n",
    "                            crtn_l,\n",
    "                            crtn_l_slope_1,\n",
    "                            crtn_l_slope_2,\n",
    "                            crtn_l_slope_4,\n",
    "                            cc_rtn,\n",
    "                            vw_dist,\n",
    "                            signal_high_low,\n",
    "                            vol_norm,\n",
    "                            norm_vol_slope_1,\n",
    "                            norm_vol_slope_2,\n",
    "                            norm_vol_slope_4,\n",
    "                            n_norm,\n",
    "                            norm_n_slope_1,\n",
    "                            norm_n_slope_2,\n",
    "                            norm_n_slope_4,\n",
    "                            vol_sig_max,\n",
    "                            sig_rel_vol,\n",
    "                            norm_high_slope,\n",
    "                            norm_low_slope,\n",
    "                            highlow_gap_end,\n",
    "                            minute_cos,\n",
    "                            minute_sin,\n",
    "                            dayofweek_cos,\n",
    "                            dayofweek_sin,\n",
    "                            dayofmonth_cos,\n",
    "                            dayofmonth_sin,\n",
    "                            signal_hour_norm,\n",
    "                            vol_mean,\n",
    "                            vol_sig_vs_mean,\n",
    "                            price_mean,\n",
    "                            price_sig_vs_mean,\n",
    "                            numtrades_mean,\n",
    "                            numtrades_sig_vs_mean,\n",
    "                            dollar_amount_mean,\n",
    "                            dollar_amount_sig_vs_mean,\n",
    "                            ))\n",
    "\n",
    "print(flattened_windows_E.shape)\n",
    "print(f'Number of engineered features: {sum(dict_E.values()) + 1} - 1')"
   ]
  },
  {
   "cell_type": "code",
   "execution_count": 66,
   "id": "20eec3f9-d810-4a30-a8b4-a1aa9698631f",
   "metadata": {},
   "outputs": [],
   "source": [
    "df_flattened_windows_E = pd.DataFrame(flattened_windows_E)\n",
    "\n",
    "pearsons_E = df_flattened_windows_E.corr(method='pearson')[0] \n",
    "spearmans_E = df_flattened_windows_E.corr(method='spearman')[0]\n",
    "pearsons_E_abs = pearsons_E.abs()\n",
    "spearmans_E_abs = spearmans_E.abs()"
   ]
  },
  {
   "cell_type": "code",
   "execution_count": 67,
   "id": "5f1f7516-703e-4266-a09c-42da121663f6",
   "metadata": {},
   "outputs": [],
   "source": [
    "top_n_corr_E = 20\n",
    "\n",
    "top_n_pear_E_abs = pearsons_E_abs.sort_values(ascending=False).head(top_n_corr_E)\n",
    "top_n_pear_E = pearsons_E[top_n_pear_E_abs.index]\n",
    "\n",
    "top_n_spear_E_abs = spearmans_E_abs.sort_values(ascending=False).head(top_n_corr_E)\n",
    "top_n_spear_E = spearmans_E[top_n_spear_E_abs.index]"
   ]
  },
  {
   "cell_type": "code",
   "execution_count": 68,
   "id": "49d0d91e-b985-4f5c-8331-ef6f8c39f5d9",
   "metadata": {},
   "outputs": [],
   "source": [
    "# Column dictionary for flattened windows with engineered features\n",
    "E_features_dict = {0: 'rtn'}\n",
    "col = 1\n",
    "for E_name, n_E in dict_E.items():\n",
    "    for i in range(n_E):\n",
    "        if n_E == 1:\n",
    "            E_str = f'{E_name}'\n",
    "        else:\n",
    "            E_str = f'{E_name}_{i+1}'\n",
    "        E_features_dict[col] = E_str\n",
    "        col += 1"
   ]
  },
  {
   "cell_type": "code",
   "execution_count": 69,
   "id": "f887577c-00fe-42a8-b58e-52555653e408",
   "metadata": {},
   "outputs": [
    {
     "name": "stdout",
     "output_type": "stream",
     "text": [
      "     Top 20 Pearson_E:                                  Top 20 Spearman_E:\n",
      "                                         Pearson_E                                          Spearman_E\n",
      "1    Column 0 (rtn)                      1.0000000000   Column 0 (rtn)                      1.0000\n",
      "2    Column 105 (E_crtn_l_slope_4_1)     -0.0389027659  Column 262 (E_price_sig_vs_mean)    -0.1099\n",
      "3    Column 103 (E_crtn_l_slope_2_1)     -0.0386640617  Column 105 (E_crtn_l_slope_4_1)     -0.1019\n",
      "4    Column 49 (E_crtn_c_slope_2_1)      -0.0335492386  Column 49 (E_crtn_c_slope_2_1)      -0.1012\n",
      "5    Column 262 (E_price_sig_vs_mean)    -0.0326008833  Column 51 (E_crtn_c_slope_4_1)      -0.1009\n",
      "6    Column 22 (E_crtn_o_slope_2_1)      -0.0320863097  Column 103 (E_crtn_l_slope_2_1)     -0.0999\n",
      "7    Column 211 (E_highlow_gap_end)      -0.0307976811  Column 150 (E_signal_high_low)      -0.0995\n",
      "8    Column 125 (E_cc_rtn_17)            -0.0294102602  Column 76 (E_crtn_h_slope_2_1)      -0.0904\n",
      "9    Column 76 (E_crtn_h_slope_2_1)      -0.0279243317  Column 47 (E_crtn_c_20)             -0.0891\n",
      "10   Column 24 (E_crtn_o_slope_4_1)      -0.0275696495  Column 101 (E_crtn_l_20)            -0.0846\n",
      "11   Column 126 (E_cc_rtn_18)            -0.0270673471  Column 78 (E_crtn_h_slope_4_1)      -0.0834\n",
      "12   Column 51 (E_crtn_c_slope_4_1)      -0.0264136080  Column 22 (E_crtn_o_slope_2_1)      -0.0824\n",
      "13   Column 133 (E_vw_dist_5)            -0.0252626091  Column 128 (E_cc_rtn_20)            -0.0779\n",
      "14   Column 106 (E_crtn_l_slope_4_2)     -0.0227957876  Column 74 (E_crtn_h_20)             -0.0752\n",
      "15   Column 101 (E_crtn_l_20)            -0.0227105279  Column 24 (E_crtn_o_slope_4_1)      -0.0720\n",
      "16   Column 139 (E_vw_dist_11)           -0.0223512785  Column 48 (E_crtn_c_slope_1)        -0.0718\n",
      "17   Column 149 (E_vw_dist_21)           0.0219801336   Column 102 (E_crtn_l_slope_1)       -0.0663\n",
      "18   Column 169 (E_vol_norm_19)          -0.0213831358  Column 75 (E_crtn_h_slope_1)        -0.0656\n",
      "19   Column 197 (E_n_norm_19)            -0.0198884755  Column 20 (E_crtn_o_20)             -0.0638\n",
      "20   Column 52 (E_crtn_c_slope_4_2)      -0.0193107097  Column 46 (E_crtn_c_19)             -0.0624\n"
     ]
    }
   ],
   "source": [
    "print(\"\".ljust(4), f\"Top {top_n_corr_E} Pearson_E:\".ljust(L_1+15), f\"Top {top_n_corr_E} Spearman_E:\".ljust(12))\n",
    "\n",
    "print(\"\".ljust(L_1+5), \"Pearson_E\".ljust(L_1+15), \"Spearman_E\")\n",
    "for i in range(top_n_corr_E):\n",
    "    print(f\"{i+1}\".ljust(4), f\"Column {top_n_pear_E.index[i]} ({E_features_dict[top_n_pear_E.index[i]]})\".ljust(L_1),\\\n",
    "          f\"{top_n_pear_E.iloc[i]:.10f}\".ljust(14),\\\n",
    "          f\"Column {top_n_spear_E.index[i]} ({E_features_dict[top_n_spear_E.index[i]]})\".ljust(L_1),\\\n",
    "          f\"{top_n_spear_E.iloc[i]:.4f}\")"
   ]
  },
  {
   "cell_type": "code",
   "execution_count": 70,
   "id": "f91d198b-8959-4ffe-a6f9-af56ff7d4ffb",
   "metadata": {},
   "outputs": [
    {
     "name": "stdout",
     "output_type": "stream",
     "text": [
      "Mean of pearsons_abs (non-engineered features): 0.00660\n",
      "Mean of pearsons_E_abs (engineered features): 0.00897\n",
      "\n",
      "\n",
      "Mean of spearmans_abs (non-engineered features): 0.01392\n",
      "Mean of spearmans_E_abs (engineered features): 0.02390\n"
     ]
    }
   ],
   "source": [
    "print(f'Mean of pearsons_abs (non-engineered features): {np.mean(pearsons_abs[1:]):.5f}')\n",
    "print(f'Mean of pearsons_E_abs (engineered features): {np.mean(pearsons_E_abs[1:]):.5f}')\n",
    "print(\"\\n\")\n",
    "print(f'Mean of spearmans_abs (non-engineered features): {np.mean(spearmans_abs[1:]):.5f}')\n",
    "print(f'Mean of spearmans_E_abs (engineered features): {np.mean(spearmans_E_abs[1:]):.5f}')"
   ]
  },
  {
   "cell_type": "code",
   "execution_count": 71,
   "id": "f1d3b710-17d0-46bd-94d9-87ecad36ffe0",
   "metadata": {},
   "outputs": [
    {
     "name": "stdout",
     "output_type": "stream",
     "text": [
      "Mean top 20 pearsons_abs (non-engineered features): 0.01767\n",
      "Mean top 20 pearsons_E_abs (engineered features): 0.02740\n",
      "\n",
      "\n",
      "Mean top 20 spearmans_abs (non-engineered features): 0.04565\n",
      "Mean top 20 spearmans_E_abs (engineered features): 0.08412\n"
     ]
    }
   ],
   "source": [
    "print(f'Mean top {top_n_corr} pearsons_abs (non-engineered features): {np.mean(top_n_pear_abs[1:]):.5f}')\n",
    "print(f'Mean top {top_n_corr_E} pearsons_E_abs (engineered features): {np.mean(top_n_pear_E_abs[1:]):.5f}')\n",
    "print(\"\\n\")\n",
    "print(f'Mean top {top_n_corr} spearmans_abs (non-engineered features): {np.mean(top_n_spear_abs[1:]):.5f}')\n",
    "print(f'Mean top {top_n_corr_E} spearmans_E_abs (engineered features): {np.mean(top_n_spear_E_abs[1:]):.5f}')"
   ]
  },
  {
   "cell_type": "markdown",
   "id": "ca33d09d-dd51-432f-9a6d-e344bcd24454",
   "metadata": {},
   "source": [
    "Higher correlations for engineered features."
   ]
  },
  {
   "cell_type": "code",
   "execution_count": 72,
   "id": "0d6f49fa-7b9e-4bee-9e4b-052cee229a3f",
   "metadata": {},
   "outputs": [],
   "source": [
    "# Decision tree screening for engineered features\n",
    "\n",
    "from sklearn.tree import DecisionTreeRegressor\n",
    "\n",
    "X_E = df_flattened_windows_E.iloc[:, 1:]  # all engineered features\n",
    "y = df_flattened_windows_E.iloc[:, 0]     # target\n",
    "\n",
    "results_d1_E = {}\n",
    "results_d2_E = {}\n",
    "\n",
    "# custom depth\n",
    "d = 10\n",
    "results_d_E = {}\n",
    "\n",
    "save_thr_d1_E = []\n",
    "for col in X_E.columns:\n",
    "    tree_d1_E = DecisionTreeRegressor(max_depth=1)\n",
    "    tree_d1_E.fit(X_E[[col]], y)  # X[[col]] keeps it as 2D\n",
    "    score_d1_E = tree_d1_E.score(X_E[[col]], y)  # R^2 score\n",
    "    results_d1_E[col] = score_d1_E\n",
    "    save_thr_d1_E.append((tree_d1_E.tree_.threshold, tree_d1_E.tree_.value))\n",
    "    \n",
    "    tree_d2_E = DecisionTreeRegressor(max_depth=2)\n",
    "    tree_d2_E.fit(X_E[[col]], y) \n",
    "    score_d2_E = tree_d2_E.score(X_E[[col]], y)  # R^2 score\n",
    "    results_d2_E[col] = score_d2_E   \n",
    "\n",
    "    tree_d_E = DecisionTreeRegressor(max_depth=d)\n",
    "    tree_d_E.fit(X_E[[col]], y)\n",
    "    score_d_E = tree_d_E.score(X_E[[col]], y)  # R^2 score\n",
    "    results_d_E[col] = score_d_E"
   ]
  },
  {
   "cell_type": "code",
   "execution_count": 73,
   "id": "e410b0d0-5bd2-4af6-b247-c26d68455c2f",
   "metadata": {},
   "outputs": [
    {
     "name": "stdout",
     "output_type": "stream",
     "text": [
      "Top 20 R^2 scores from depth 1, depth 2 and depth 10 decision trees:\n",
      "\n",
      "          Depth 1                   Depth 2                   Depth 10\n",
      "\n",
      "1    E_price_mean         0.009     E_price_mean         0.011     E_crtn_c_slope_1     0.108\n",
      "2    E_crtn_c_17          0.005     E_crtn_l_6           0.010     E_vw_dist_13         0.098\n",
      "3    E_crtn_l_17          0.005     E_crtn_l_19          0.010     E_crtn_c_14          0.097\n",
      "4    E_vw_dist_16         0.005     E_crtn_h_19          0.010     E_crtn_o_slope_1     0.094\n",
      "5    E_vw_dist_17         0.004     E_crtn_o_19          0.009     E_crtn_h_20          0.093\n",
      "6    E_cc_rtn_20          0.004     E_crtn_l_11          0.008     E_price_sig_vs_mean  0.090\n",
      "7    E_crtn_l_16          0.004     E_crtn_l_13          0.008     E_crtn_h_15          0.090\n",
      "8    E_vw_dist_21         0.003     E_crtn_o_2           0.008     E_crtn_h_slope_1     0.089\n",
      "9    E_price_sig_vs_mean  0.003     E_crtn_c_16          0.008     E_crtn_l_15          0.089\n",
      "10   E_crtn_l_slope_4_1   0.003     E_cc_rtn_6           0.008     E_crtn_o_slope_4_1   0.087\n",
      "11   E_cc_rtn_19          0.003     E_crtn_h_17          0.007     E_crtn_h_14          0.087\n",
      "12   E_crtn_o_19          0.003     E_crtn_o_6           0.007     E_crtn_c_15          0.087\n",
      "13   E_crtn_o_18          0.003     E_cc_rtn_20          0.007     E_crtn_l_slope_4_1   0.086\n",
      "14   E_vw_dist_15         0.003     E_price_sig_vs_mean  0.007     E_crtn_o_14          0.084\n",
      "15   E_crtn_c_18          0.003     E_vw_dist_7          0.007     E_crtn_l_19          0.083\n",
      "16   E_crtn_l_18          0.003     E_crtn_l_18          0.007     E_crtn_o_13          0.083\n",
      "17   E_crtn_h_14          0.002     E_crtn_l_17          0.007     E_crtn_c_16          0.083\n",
      "18   E_crtn_l_slope_2_1   0.002     E_vw_dist_8          0.007     E_cc_rtn_20          0.083\n",
      "19   E_crtn_c_15          0.002     E_crtn_c_20          0.007     E_crtn_l_slope_1     0.082\n",
      "20   E_vw_dist_18         0.002     E_crtn_c_18          0.007     E_crtn_h_13          0.082\n"
     ]
    }
   ],
   "source": [
    "n_top = 20\n",
    "\n",
    "d1_sorted_E = sorted(results_d1_E.items(), key=lambda x: x[1], reverse=True)\n",
    "top_d1_E = d1_sorted_E[:n_top]\n",
    "\n",
    "d2_sorted_E = sorted(results_d2_E.items(), key=lambda x: x[1], reverse=True)\n",
    "top_d2_E = d2_sorted_E[:n_top]\n",
    "\n",
    "d_sorted_E = sorted(results_d_E.items(), key=lambda x: x[1], reverse=True)\n",
    "top_d_E = d_sorted_E[:n_top]\n",
    "\n",
    "print(f\"Top {n_top} R^2 scores from depth 1, depth 2 and depth {d} decision trees:\\n\")\n",
    "print(\"\".ljust(9), \"Depth 1\".ljust(25), \"Depth 2\".ljust(25), f\"Depth {d}\\n\")\n",
    "for i in range(n_top):\n",
    "    print(f\"{i+1}\".ljust(4),\n",
    "          f\"{E_features_dict[top_d1_E[i][0]]}\".ljust(20), f\"{top_d1_E[i][1]:.3f}\".ljust(9),\\\n",
    "          f\"{E_features_dict[top_d2_E[i][0]]}\".ljust(20), f\"{top_d2_E[i][1]:.3f}\".ljust(9),\\\n",
    "          f\"{E_features_dict[top_d_E[i][0]]}\".ljust(20), f\"{top_d_E[i][1]:.3f}\")"
   ]
  },
  {
   "cell_type": "code",
   "execution_count": 74,
   "id": "2408fb6b-7a7b-4f3a-aa40-716919d3c953",
   "metadata": {},
   "outputs": [
    {
     "name": "stdout",
     "output_type": "stream",
     "text": [
      "R^2 from decision trees\n",
      "Mean depth1 (non-engineered): 0.0096\n",
      "Mean depth1 (engineered): 0.0034\n",
      "\n",
      "\n",
      "Mean depth2 (non-engineered): 0.0111\n",
      "Mean depth2 (engineered): 0.0079\n",
      "\n",
      "\n",
      "Mean depth10 (non-engineered): 0.0568\n",
      "Mean depth10 (engineered): 0.0887\n"
     ]
    }
   ],
   "source": [
    "print(\"R^2 from decision trees\")\n",
    "print(f'Mean depth1 (non-engineered): {np.mean(np.array(top_d1)[:, 1]):.4f}')\n",
    "print(f'Mean depth1 (engineered): {np.mean(np.array(top_d1_E)[:, 1]):.4f}')\n",
    "print(\"\\n\")\n",
    "print(f'Mean depth2 (non-engineered): {np.mean(np.array(top_d2)[:, 1]):.4f}')\n",
    "print(f'Mean depth2 (engineered): {np.mean(np.array(top_d2_E)[:, 1]):.4f}')\n",
    "print(\"\\n\")\n",
    "print(f'Mean depth{d} (non-engineered): {np.mean(np.array(top_d)[:, 1]):.4f}')\n",
    "print(f'Mean depth{d} (engineered): {np.mean(np.array(top_d_E)[:, 1]):.4f}')"
   ]
  },
  {
   "cell_type": "markdown",
   "id": "ef7c04fc-db40-43e7-b2cf-a5af25c7f4ec",
   "metadata": {},
   "source": [
    "Lower R^2 for engineered features for depth 1 and depth 2. Higher for depth 10. Maybe due to normalization-aspect of engineered features."
   ]
  },
  {
   "cell_type": "markdown",
   "id": "434aac54-183a-4308-8ee3-784e1bd0eaee",
   "metadata": {},
   "source": [
    "## Variable selection\n",
    "\n",
    "Want to pick features from `raw_features_dict` and `E_features_dict`..."
   ]
  },
  {
   "cell_type": "code",
   "execution_count": 75,
   "id": "af6329e9-cb0d-4f53-b5b3-c24353e51624",
   "metadata": {},
   "outputs": [],
   "source": [
    "# Reversed dictionaries to get column index from feature name\n",
    "getcol_raw = {name: col for col, name in raw_features_dict.items()}\n",
    "getcol_E = {name: col for col, name in E_features_dict.items()}"
   ]
  },
  {
   "cell_type": "code",
   "execution_count": 76,
   "id": "13df71fd-8b15-4b68-b558-2127c34210a0",
   "metadata": {},
   "outputs": [
    {
     "name": "stdout",
     "output_type": "stream",
     "text": [
      "(23163, 2)\n",
      "(23163,)\n"
     ]
    }
   ],
   "source": [
    "ids_raw = [\n",
    "            getcol_raw['halt']\n",
    "          ]\n",
    "\n",
    "ids_E = [\n",
    "            getcol_E['E_highlow_gap_end'],\n",
    "        ]\n",
    "\n",
    "\n",
    "\n",
    "features_raw = df_flattened_windows.iloc[:, ids_raw]\n",
    "features_E = df_flattened_windows_E.iloc[:, ids_E]\n",
    "\n",
    "X_train = np.hstack([features_E, features_raw])\n",
    "y_train = (returns > 0).astype(int) # Binary target\n",
    "print(X_train.shape)\n",
    "print(y_train.shape)"
   ]
  },
  {
   "cell_type": "markdown",
   "id": "8dc2c8c6-e3f7-4f4d-b99c-845a86a7e246",
   "metadata": {},
   "source": [
    "## Build models\n",
    "\n",
    "- Random forest\n",
    "- Extra Trees\n",
    "\n",
    "- Neural networks\n"
   ]
  },
  {
   "cell_type": "code",
   "execution_count": 77,
   "id": "9620f1e3-e50d-4196-81ce-9ed5d2d8678d",
   "metadata": {},
   "outputs": [
    {
     "name": "stdout",
     "output_type": "stream",
     "text": [
      "rf and extra training done\n"
     ]
    }
   ],
   "source": [
    "from sklearn.ensemble import RandomForestClassifier\n",
    "from sklearn.ensemble import ExtraTreesClassifier\n",
    "\n",
    "rf_model = RandomForestClassifier(n_estimators=100, random_state=123)\n",
    "rf_model.fit(X_train, y_train)\n",
    "\n",
    "extra_model = ExtraTreesClassifier(n_estimators=100, random_state=123)\n",
    "extra_model.fit(X_train, y_train)\n",
    "print(\"rf and extra training done\")"
   ]
  },
  {
   "cell_type": "code",
   "execution_count": 78,
   "id": "95ca02c9-3d61-4265-8acf-6a85be5f83a6",
   "metadata": {},
   "outputs": [
    {
     "name": "stdout",
     "output_type": "stream",
     "text": [
      "torch.Size([23163, 2])\n",
      "torch.Size([23163, 1])\n"
     ]
    }
   ],
   "source": [
    "import torch\n",
    "from torch.utils.data import TensorDataset, DataLoader\n",
    "\n",
    "X_train = torch.tensor(X_train, dtype=torch.float32)\n",
    "y_train = torch.tensor(y_train.reshape(-1, 1), dtype=torch.float32)\n",
    "\n",
    "print(X_train.shape)\n",
    "print(y_train.shape)\n",
    "\n",
    "train_dataset = TensorDataset(X_train, y_train)\n",
    "train_loader = DataLoader(train_dataset, batch_size=64, shuffle=True)"
   ]
  },
  {
   "cell_type": "code",
   "execution_count": 79,
   "id": "bfe5c1d8-9d36-450e-b8ec-533e95c72f21",
   "metadata": {},
   "outputs": [
    {
     "name": "stdout",
     "output_type": "stream",
     "text": [
      "Training done\n"
     ]
    }
   ],
   "source": [
    "import torch.nn as nn\n",
    "import torch.optim as optim\n",
    "\n",
    "class forward_nn(nn.Module):\n",
    "    def __init__(self, input_dim=100):\n",
    "        super().__init__()\n",
    "        self.layers = nn.Sequential(\n",
    "            nn.Linear(input_dim, 256),\n",
    "            nn.ReLU(),\n",
    "            nn.Linear(256, 128),\n",
    "            nn.ReLU(),\n",
    "            nn.Linear(128, 64),\n",
    "            nn.ReLU(),\n",
    "            nn.Linear(64, 1),\n",
    "        )\n",
    "    \n",
    "    def forward(self, x):\n",
    "        return self.layers(x)\n",
    "\n",
    "\n",
    "input_dim = X_train.shape[1]\n",
    "model = forward_nn(input_dim)\n",
    "\n",
    "criterion = nn.BCEWithLogitsLoss()\n",
    "optimizer = optim.Adam(model.parameters(), lr=0.001)\n",
    "\n",
    "for epoch in range(10):\n",
    "    for batch_X, batch_y in train_loader:\n",
    "        optimizer.zero_grad()\n",
    "        y_pred = model(batch_X)\n",
    "        loss = criterion(y_pred, batch_y)\n",
    "        loss.backward()\n",
    "        optimizer.step()\n",
    "\n",
    "print(\"Training done\")"
   ]
  },
  {
   "cell_type": "markdown",
   "id": "a2445a00-6b78-4036-9726-fa1980ee6111",
   "metadata": {},
   "source": [
    "## Appendix\n",
    "\n",
    "### Data\n",
    "\n",
    "**Data source:** Polygon.io\n",
    "\n",
    "The process of collecting candlestick windows was as follows:\n",
    "\n",
    "1. Daily OHLCV data were downloaded for all U.S. stocks over a one-year period, resulting in approximately 2,000,000 daily summaries.\n",
    "2. The daily summaries were filtered using the following filter criteria:\n",
    "- $\\text{volume} > 650,000$\n",
    "- $\\text{high} > 1$\n",
    "- $(\\text{high} - \\text{low}) / \\text{low} > 0.1$\n",
    "\n",
    "\n",
    "3. For each filtered (stock, day) combination, 1-minute data was downloaded.\n",
    "4. For the 1-minute data, for each (stock, day) combination, candlesticks with $(\\text{close} - \\text{open}) / \\text{open} \\geq 0.04$ or $\\leq -0.04$ were identified for every point after the given (stock, day) had satisfied the filter criteria above. For example, if a given (stock, day) had satisfied $\\text{volume} > 650000$, $\\text{high} > 1$, and $(\\text{high} - \\text{low}) / \\text{low} > 0.1$ at 09:55, candlesticks with $\\geq 0.04$ or $\\leq-0.04$ were identified for every point from 09:56 and onward (until close of post market).\n",
    "5. For each such found candlestick, the candlestick itself, 20 candlesticks before, and 5 candlesticks after were aggregated into a window of 26 candlesticks.\n",
    "\n",
    "**Note:** The point at which the thresholds for the 1-minute data started to be checked was at 09:30. The reason for this was that some of the daily summaries only were for regular hours, so many stocks that satisfied the thresholds during pre-market was not included in the downloaded stocks. Hence, any window collected between 04:00 and 09:30 would have led to selection bias."
   ]
  }
 ],
 "metadata": {
  "kernelspec": {
   "display_name": "Python 3 (ipykernel)",
   "language": "python",
   "name": "python3"
  },
  "language_info": {
   "codemirror_mode": {
    "name": "ipython",
    "version": 3
   },
   "file_extension": ".py",
   "mimetype": "text/x-python",
   "name": "python",
   "nbconvert_exporter": "python",
   "pygments_lexer": "ipython3",
   "version": "3.13.7"
  }
 },
 "nbformat": 4,
 "nbformat_minor": 5
}
